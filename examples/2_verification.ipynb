{
 "cells": [
  {
   "cell_type": "markdown",
   "id": "92f4f706",
   "metadata": {},
   "source": [
    "# Verifying derivative calculations\n",
    "\n",
    "This notebook describes the verification of derivative calculations using Taylor remainder convergence testing. A simple time-independent problem is considered, using tlm_adjoint with the [Firedrake](https://firedrakeproject.org/) backend.\n",
    "\n",
    "The Taylor remainder convergence testing method is described in:\n",
    "\n",
    "- P.&nbsp;E.&nbsp;Farrell, D. A. Ham, S. W. Funke, and M. E. Rognes, 'Automated derivation of the adjoint of high-level transient finite element programs', SIAM Journal on Scientific Computing 35(4), pp. C369&ndash;C393, 2013, doi: 10.1137/120873558\n",
    "\n",
    "## Forward problem\n",
    "\n",
    "We consider the solution of a linear time-independent partial differential equation, followed by the calculation of the square of the $L^2$-norm of the solution. Non-linearity is introduced by defining the right-hand-side of the problem to be a non-linear function of the control. We assume real spaces and a real build of Firedrake throughout.\n",
    "\n",
    "Specifically we consider the solution $u \\in V$ of\n",
    "\n",
    "$$\n",
    "  \\forall \\zeta \\in V \\qquad \\int_\\Omega u \\zeta + \\alpha^2 \\int_\\Omega \\nabla u \\cdot \\nabla \\zeta = \\int_\\Omega \\left( \\sin^2 m \\right) \\zeta,\n",
    "$$\n",
    "\n",
    "where $V$ is a real $P_1$ continuous finite element space defining functions on the domain $\\Omega = \\left( 0, 1 \\right)^2$, with $m \\in V$. This corresponds to a discretization of the partial differential equation\n",
    "\n",
    "$$\n",
    "    u - \\alpha^2 \\nabla^2 u = \\sin^2 m \\quad \\text{on } \\left( x, y \\right) \\in \\left( 0, 1 \\right)^2,\n",
    "$$\n",
    "\n",
    "subject to boundary conditions $\\nabla u \\cdot \\hat{n} = 0$ on the boundary, where $\\hat{n}$ is an outward unit normal.\n",
    "\n",
    "A simple implementation in Firedrake, with $m = e^x \\sin \\left( \\pi x y \\right)$ and $\\alpha = 0.2$, takes the form:"
   ]
  },
  {
   "cell_type": "code",
   "execution_count": 1,
   "id": "13fd669c",
   "metadata": {
    "execution": {
     "iopub.execute_input": "2025-02-11T18:08:00.073697Z",
     "iopub.status.busy": "2025-02-11T18:08:00.073248Z",
     "iopub.status.idle": "2025-02-11T18:08:06.137964Z",
     "shell.execute_reply": "2025-02-11T18:08:06.137266Z"
    }
   },
   "outputs": [],
   "source": [
    "from firedrake import *\n",
    "\n",
    "mesh = UnitSquareMesh(50, 50)\n",
    "X = SpatialCoordinate(mesh)\n",
    "space = FunctionSpace(mesh, \"Lagrange\", 1)\n",
    "test = TestFunction(space)\n",
    "trial = TrialFunction(space)\n",
    "\n",
    "m = Function(space, name=\"m\")\n",
    "m.interpolate(exp(X[0]) * sin(pi * X[0] * X[1]))\n",
    "\n",
    "alpha = Constant(0.2)\n",
    "\n",
    "u = Function(space, name=\"u\")\n",
    "solve(inner(trial, test) * dx + (alpha ** 2) * inner(grad(trial), grad(test)) * dx\n",
    "      == inner(sin(m) ** 2, test) * dx, u)\n",
    "\n",
    "J = assemble(inner(u, u) * dx)"
   ]
  },
  {
   "cell_type": "markdown",
   "id": "29810cbf",
   "metadata": {},
   "source": [
    "## Taylor remainder convergence testing: First order\n",
    "\n",
    "If we have a functional $J$ depending on a control $m$ then we have, given some perturbation direction $\\zeta$, via Taylor expansion,\n",
    "\n",
    "$$\n",
    "  \\left| J \\left( m + \\varepsilon \\zeta \\right) - J \\left( m \\right) \\right| = O \\left( \\varepsilon \\right), \\\\\n",
    "$$\n",
    "$$\n",
    "  \\left| J \\left( m + \\varepsilon \\zeta \\right) - J \\left( m \\right) - \\varepsilon \\frac{dJ}{dm} \\zeta \\right| = O \\left( \\varepsilon^2 \\right).\n",
    "$$\n",
    "\n",
    "That is, $\\zeta$ is some direction in the same space as $m$, which we choose, and then we control the perturbation amplitude using the scalar $\\varepsilon$. The final term in the second absolute value is a directional derivative, which we can compute using the adjoint.\n",
    "\n",
    "This leads to a methodology for verifying a derivative computed using the adjoint method:\n",
    "\n",
    "1. Choose a direction $\\zeta$.\n",
    "2. Choose a number of different values of $\\varepsilon$.\n",
    "3. See if we have second order convergence of the second of the above, to zero.\n",
    "\n",
    "This verifies only the directional derivative with a single direction, but if we wish we can choose a new direction and repeat the test.\n",
    "\n",
    "We can use the `taylor_test` function to perform the test for us. By default this generates a pseudorandom direction and chooses a number of values of $\\varepsilon$. It then computes the quantities on the left-hand-sides of the above equations, computes the orders of convergence between consecutive pairs of values for $\\varepsilon$, and displays the results. It returns the *minimum* order computed for the second case, which in a successful verification should be close to two.\n",
    "\n",
    "Let's compute a derivative using the adjoint method, and apply a Taylor remainder convergence test:"
   ]
  },
  {
   "cell_type": "code",
   "execution_count": 2,
   "id": "1888394c",
   "metadata": {
    "execution": {
     "iopub.execute_input": "2025-02-11T18:08:06.140004Z",
     "iopub.status.busy": "2025-02-11T18:08:06.139704Z",
     "iopub.status.idle": "2025-02-11T18:08:09.705322Z",
     "shell.execute_reply": "2025-02-11T18:08:09.704666Z"
    }
   },
   "outputs": [
    {
     "name": "stdout",
     "output_type": "stream",
     "text": [
      "Error norms, no adjoint   = [1.83675325e-04 9.18679773e-05 4.59415781e-05 2.29726877e-05\n",
      " 1.14868187e-05]\n"
     ]
    },
    {
     "name": "stdout",
     "output_type": "stream",
     "text": [
      "Orders,      no adjoint   = [0.99952386 0.99976165 0.99988076 0.99994036]\n"
     ]
    },
    {
     "name": "stdout",
     "output_type": "stream",
     "text": [
      "Error norms, with adjoint = [1.21373327e-07 3.03720082e-08 7.59658226e-09 1.89959271e-09\n",
      " 4.74953966e-10]\n"
     ]
    },
    {
     "name": "stdout",
     "output_type": "stream",
     "text": [
      "Orders,      with adjoint = [1.9986372  1.99931991 1.99966037 1.99983053]\n"
     ]
    }
   ],
   "source": [
    "from firedrake import *\n",
    "from tlm_adjoint.firedrake import *\n",
    "\n",
    "import logging\n",
    "import numpy as np\n",
    "\n",
    "np.random.seed(33582866)\n",
    "\n",
    "logger = logging.getLogger(\"tlm_adjoint\")\n",
    "logger.setLevel(logging.INFO)\n",
    "root_logger = logging.getLogger()\n",
    "if len(logger.handlers) == 1:\n",
    "    if len(root_logger.handlers) == 1:\n",
    "        root_logger.handlers.pop()\n",
    "    root_logger.addHandler(logger.handlers.pop())\n",
    "\n",
    "reset_manager()\n",
    "\n",
    "mesh = UnitSquareMesh(50, 50)\n",
    "X = SpatialCoordinate(mesh)\n",
    "space = FunctionSpace(mesh, \"Lagrange\", 1)\n",
    "test = TestFunction(space)\n",
    "trial = TrialFunction(space)\n",
    "\n",
    "m = Function(space, name=\"m\")\n",
    "m.interpolate(exp(X[0]) * sin(pi * X[0] * X[1]))\n",
    "\n",
    "alpha = Constant(0.2)\n",
    "\n",
    "\n",
    "def forward(m):\n",
    "    u = Function(space, name=\"u\")\n",
    "    solve(inner(trial, test) * dx + (alpha ** 2) * inner(grad(trial), grad(test)) * dx\n",
    "          == inner(sin(m) ** 2, test) * dx, u)\n",
    "\n",
    "    J = Functional(name=\"J\")\n",
    "    J.assign(inner(u, u) * dx)\n",
    "    return J\n",
    "\n",
    "\n",
    "start_manager()\n",
    "J = forward(m)\n",
    "stop_manager()\n",
    "\n",
    "dJ_dm = compute_gradient(J, m)\n",
    "\n",
    "min_order = taylor_test(forward, m, J_val=J.value, dJ=dJ_dm, seed=1.0e-3)\n",
    "assert min_order > 1.99"
   ]
  },
  {
   "cell_type": "markdown",
   "id": "dcdd1937",
   "metadata": {},
   "source": [
    "The key changes here are:\n",
    "\n",
    "- To define a `forward` function. `taylor_test` uses this to repeatedly rerun the forward with different values of $\\varepsilon$.\n",
    "- Using `seed` to control the considered values of $\\varepsilon$. If this is too large then the asymptotic orders of convergence may not be seen. If this is too small then the effect of roundoff or iterative solver tolerances may become too large.\n",
    "- Seeding the NumPy pseudorandom number generator. The pseudorandom direction is generated using `numpy.random.random`, and we seed the pseudorandom number generator to improve reproducibility. We could alternatively supply a direction using the `dM` argument.\n",
    "\n",
    "We see the expected first and second orders of convergence.\n",
    "\n",
    "## Taylor remainder convergence testing: Second order\n",
    "\n",
    "Including the next order term in the Taylor expansion leads to\n",
    "\n",
    "$$\n",
    "    \\left| J \\left( m + \\varepsilon \\zeta \\right) - J \\left( m \\right) - \\varepsilon \\frac{dJ}{dm} \\zeta - \\frac{1}{2} \\varepsilon^2 \\left[ \\frac{d}{dm} \\left( \\frac{dJ}{dm} \\zeta \\right) \\right] \\zeta \\right| = O \\left( \\varepsilon^3 \\right).\n",
    "$$\n",
    "\n",
    "Let's use this approach to test Hessian calculations using a `CachedHessian`:"
   ]
  },
  {
   "cell_type": "code",
   "execution_count": 3,
   "id": "5b6ac48d",
   "metadata": {
    "execution": {
     "iopub.execute_input": "2025-02-11T18:08:09.707670Z",
     "iopub.status.busy": "2025-02-11T18:08:09.707331Z",
     "iopub.status.idle": "2025-02-11T18:08:12.332681Z",
     "shell.execute_reply": "2025-02-11T18:08:12.332195Z"
    }
   },
   "outputs": [
    {
     "name": "stdout",
     "output_type": "stream",
     "text": [
      "Error norms, no adjoint   = [2.10559794e-04 1.05304003e-04 5.26580325e-05 2.63305245e-05\n",
      " 1.31656394e-05]\n"
     ]
    },
    {
     "name": "stdout",
     "output_type": "stream",
     "text": [
      "Orders,      no adjoint   = [0.9996697  0.99983476 0.99991736 0.99995867]\n"
     ]
    },
    {
     "name": "stdout",
     "output_type": "stream",
     "text": [
      "Error norms, with adjoint = [9.17836045e-11 1.14560228e-11 1.43088134e-12 1.78880799e-13\n",
      " 2.25105581e-14]\n"
     ]
    },
    {
     "name": "stdout",
     "output_type": "stream",
     "text": [
      "Orders,      with adjoint = [3.00213019 3.00113033 2.99983359 2.99032481]\n"
     ]
    }
   ],
   "source": [
    "np.random.seed(19986557)\n",
    "\n",
    "H = CachedHessian(J)\n",
    "\n",
    "min_order = taylor_test(forward, m, J_val=J.value, ddJ=H, seed=1.0e-3)\n",
    "assert min_order > 2.99"
   ]
  },
  {
   "cell_type": "markdown",
   "id": "a0435ee4",
   "metadata": {},
   "source": [
    "We now see the expected first and *third* orders of convergence, although there is a suggestion of roundoff affecting the results for the smallest $\\varepsilon$. Here the first order directional derivative is computed using a tangent-linear calculation, and the Hessian action on $\\zeta$ is computed by applying the adjoint method to the forward and tangent-linear calculations.\n",
    "\n",
    "## Taylor remainder convergence testing: Higher order\n",
    "\n",
    "We can test the derivative of a directional derivative, if we substitute\n",
    "\n",
    "$$\n",
    "  J \\rightarrow K = \\frac{dJ}{dm} \\zeta_0,\n",
    "$$\n",
    "\n",
    "with some *new* direction $\\zeta_0$, which we choose. That is, we use\n",
    "\n",
    "$$\n",
    "  \\left| K \\left( m + \\varepsilon \\zeta \\right) - K \\left( m \\right) \\right| = O \\left( \\varepsilon \\right), \\\\\n",
    "$$\n",
    "$$\n",
    "  \\left| K \\left( m + \\varepsilon \\zeta \\right) - K \\left( m \\right) - \\varepsilon \\frac{dK}{dm} \\zeta \\right| = O \\left( \\varepsilon^2 \\right),\n",
    "$$\n",
    "\n",
    "with\n",
    "\n",
    "$$\n",
    "  K = \\frac{dJ}{dm} \\zeta_0.\n",
    "$$\n",
    "\n",
    "The new term\n",
    "\n",
    "$$\n",
    "  \\frac{dK}{dm} \\zeta\n",
    "$$\n",
    "\n",
    "can be computed using either a higher order tangent-linear or higher-order adjoint calculation. This generalizes naturally to higher order, by replacing the functional with the directional derivative of a directional derivative.\n",
    "\n",
    "The function `taylor_test_tlm` performs such verification tests, considering directional derivatives of a given order, and computing all derivatives using tangent-linear calculations. Each directional derivative requires a new direction to be chosen &ndash; by default pseudorandom directions are generated.\n",
    "\n",
    "Let's apply this test up to fourth order:"
   ]
  },
  {
   "cell_type": "code",
   "execution_count": 4,
   "id": "4e5bf325",
   "metadata": {
    "execution": {
     "iopub.execute_input": "2025-02-11T18:08:12.334608Z",
     "iopub.status.busy": "2025-02-11T18:08:12.334388Z",
     "iopub.status.idle": "2025-02-11T18:08:42.783054Z",
     "shell.execute_reply": "2025-02-11T18:08:42.782482Z"
    }
   },
   "outputs": [
    {
     "name": "stdout",
     "output_type": "stream",
     "text": [
      "Error norms, no tangent-linear   = [2.14011610e-04 1.07017190e-04 5.35114451e-05 2.67564355e-05\n",
      " 1.33783961e-05]\n"
     ]
    },
    {
     "name": "stdout",
     "output_type": "stream",
     "text": [
      "Orders,      no tangent-linear   = [0.99984651 0.99992316 0.99996156 0.99998077]\n"
     ]
    },
    {
     "name": "stdout",
     "output_type": "stream",
     "text": [
      "Error norms, with tangent-linear = [4.55807684e-08 1.14053932e-08 2.85262116e-09 7.13314307e-10\n",
      " 1.78348453e-10]\n"
     ]
    },
    {
     "name": "stdout",
     "output_type": "stream",
     "text": [
      "Orders,      with tangent-linear = [1.99870907 1.99935611 1.99967835 1.99983921]\n"
     ]
    },
    {
     "name": "stdout",
     "output_type": "stream",
     "text": [
      "Error norms, no tangent-linear   = [1.76713220e-04 8.84698206e-05 4.42631569e-05 2.21386331e-05\n",
      " 1.10710793e-05]\n"
     ]
    },
    {
     "name": "stdout",
     "output_type": "stream",
     "text": [
      "Orders,      no tangent-linear   = [0.99815267 0.99907905 0.9995402  0.99977027]\n"
     ]
    },
    {
     "name": "stdout",
     "output_type": "stream",
     "text": [
      "Error norms, with tangent-linear = [4.52243872e-07 1.12911424e-07 2.82091088e-08 7.04993071e-09\n",
      " 1.76218937e-09]\n"
     ]
    },
    {
     "name": "stdout",
     "output_type": "stream",
     "text": [
      "Orders,      with tangent-linear = [2.00190949 2.00095847 2.00048011 2.00024011]\n"
     ]
    },
    {
     "name": "stdout",
     "output_type": "stream",
     "text": [
      "Error norms, no tangent-linear   = [1.01396288e-03 5.06448981e-04 2.53090600e-04 1.26511730e-04\n",
      " 6.32474607e-05]\n"
     ]
    },
    {
     "name": "stdout",
     "output_type": "stream",
     "text": [
      "Orders,      no tangent-linear   = [1.001516   1.00076302 1.00038276 1.0001917 ]\n"
     ]
    },
    {
     "name": "stdout",
     "output_type": "stream",
     "text": [
      "Error norms, with tangent-linear = [2.13811439e-06 5.36596213e-07 1.34407417e-07 3.36341442e-08\n",
      " 8.41257242e-09]\n"
     ]
    },
    {
     "name": "stdout",
     "output_type": "stream",
     "text": [
      "Orders,      with tangent-linear = [1.99443026 1.99722412 1.99861429 1.99930763]\n"
     ]
    },
    {
     "name": "stderr",
     "output_type": "stream",
     "text": [
      "tsfc:WARNING Estimated quadrature degree 11 more than tenfold greater than any argument/coefficient degree (max 1)\n"
     ]
    },
    {
     "name": "stdout",
     "output_type": "stream",
     "text": [
      "Estimated quadrature degree 11 more than tenfold greater than any argument/coefficient degree (max 1)\n"
     ]
    },
    {
     "name": "stdout",
     "output_type": "stream",
     "text": [
      "Error norms, no tangent-linear   = [0.00575594 0.00289012 0.0014481  0.00072481 0.00036259]\n"
     ]
    },
    {
     "name": "stdout",
     "output_type": "stream",
     "text": [
      "Orders,      no tangent-linear   = [0.99392152 0.99697228 0.998489   0.99924522]\n"
     ]
    },
    {
     "name": "stdout",
     "output_type": "stream",
     "text": [
      "Error norms, with tangent-linear = [4.85843576e-05 1.21408907e-05 3.03457070e-06 7.58561041e-07\n",
      " 1.89630048e-07]\n"
     ]
    },
    {
     "name": "stdout",
     "output_type": "stream",
     "text": [
      "Orders,      with tangent-linear = [2.00061762 2.00030993 2.00015525 2.00007769]\n"
     ]
    }
   ],
   "source": [
    "np.random.seed(76149511)\n",
    "\n",
    "for order in range(1, 5):\n",
    "    min_order = taylor_test_tlm(forward, m, tlm_order=order, seed=1.0e-3)\n",
    "    assert min_order > 1.99"
   ]
  },
  {
   "cell_type": "markdown",
   "id": "df687375",
   "metadata": {},
   "source": [
    "The function `taylor_test_tlm_adjoint` also performs such verification tests, but computes the highest order derivative information using the adjoint method.\n",
    "\n",
    "Let's apply this test up to fourth order:"
   ]
  },
  {
   "cell_type": "code",
   "execution_count": 5,
   "id": "9404e167",
   "metadata": {
    "execution": {
     "iopub.execute_input": "2025-02-11T18:08:42.784776Z",
     "iopub.status.busy": "2025-02-11T18:08:42.784600Z",
     "iopub.status.idle": "2025-02-11T18:08:59.857060Z",
     "shell.execute_reply": "2025-02-11T18:08:59.856418Z"
    }
   },
   "outputs": [
    {
     "name": "stdout",
     "output_type": "stream",
     "text": [
      "Error norms, no adjoint   = [1.96925244e-04 9.84831481e-05 4.92467146e-05 2.46246436e-05\n",
      " 1.23126435e-05]\n"
     ]
    },
    {
     "name": "stdout",
     "output_type": "stream",
     "text": [
      "Orders,      no adjoint   = [0.99969928 0.9998494  0.99992464 0.9999623 ]\n"
     ]
    },
    {
     "name": "stdout",
     "output_type": "stream",
     "text": [
      "Error norms, with adjoint = [8.22009802e-08 2.05743897e-08 5.14661260e-09 1.28702985e-09\n",
      " 3.21804463e-10]\n"
     ]
    },
    {
     "name": "stdout",
     "output_type": "stream",
     "text": [
      "Orders,      with adjoint = [1.99830596 1.99915454 1.99957767 1.99978928]\n"
     ]
    },
    {
     "name": "stdout",
     "output_type": "stream",
     "text": [
      "Error norms, no adjoint   = [6.06217536e-05 3.03568452e-05 1.51898950e-05 7.59781316e-06\n",
      " 3.79962268e-06]\n"
     ]
    },
    {
     "name": "stdout",
     "output_type": "stream",
     "text": [
      "Orders,      no adjoint   = [0.99781372 0.99890997 0.99945576 0.99972807]\n"
     ]
    },
    {
     "name": "stdout",
     "output_type": "stream",
     "text": [
      "Error norms, with adjoint = [1.83663729e-07 4.58635021e-08 1.14593025e-08 2.86400287e-09\n",
      " 7.15897848e-10]\n"
     ]
    },
    {
     "name": "stdout",
     "output_type": "stream",
     "text": [
      "Orders,      with adjoint = [2.00164831 2.00082729 2.00041439 2.00020729]\n"
     ]
    },
    {
     "name": "stdout",
     "output_type": "stream",
     "text": [
      "Error norms, no adjoint   = [1.77271516e-04 8.85216211e-05 4.42321703e-05 2.21089118e-05\n",
      " 1.10526609e-05]\n"
     ]
    },
    {
     "name": "stdout",
     "output_type": "stream",
     "text": [
      "Orders,      no adjoint   = [1.00185896 1.00093384 1.00046801 1.00023428]\n"
     ]
    },
    {
     "name": "stdout",
     "output_type": "stream",
     "text": [
      "Error norms, with adjoint = [4.57678459e-07 1.14702543e-07 2.87109829e-08 7.18216294e-09\n",
      " 1.79609276e-09]\n"
     ]
    },
    {
     "name": "stdout",
     "output_type": "stream",
     "text": [
      "Orders,      with adjoint = [1.99643702 1.99822274 1.99911243 1.99955652]\n"
     ]
    },
    {
     "name": "stderr",
     "output_type": "stream",
     "text": [
      "tsfc:WARNING Estimated quadrature degree 11 more than tenfold greater than any argument/coefficient degree (max 1)\n"
     ]
    },
    {
     "name": "stdout",
     "output_type": "stream",
     "text": [
      "Estimated quadrature degree 11 more than tenfold greater than any argument/coefficient degree (max 1)\n"
     ]
    },
    {
     "name": "stdout",
     "output_type": "stream",
     "text": [
      "Error norms, no adjoint   = [2.68076588e-04 1.34645957e-04 6.74748172e-05 3.37753585e-05\n",
      " 1.68971655e-05]\n"
     ]
    },
    {
     "name": "stdout",
     "output_type": "stream",
     "text": [
      "Orders,      no adjoint   = [0.99347432 0.99674984 0.99837808 0.99918983]\n"
     ]
    },
    {
     "name": "stdout",
     "output_type": "stream",
     "text": [
      "Error norms, with adjoint = [2.42982799e-06 6.07250783e-07 1.51786806e-07 3.79434582e-08\n",
      " 9.48545874e-09]\n"
     ]
    },
    {
     "name": "stdout",
     "output_type": "stream",
     "text": [
      "Orders,      with adjoint = [2.00048984 2.00024605 2.00012331 2.00006172]\n"
     ]
    }
   ],
   "source": [
    "np.random.seed(74728054)\n",
    "\n",
    "for order in range(1, 5):\n",
    "    min_order = taylor_test_tlm_adjoint(forward, m, adjoint_order=order, seed=1.0e-3)\n",
    "    assert min_order > 1.99"
   ]
  }
 ],
 "metadata": {
  "kernelspec": {
   "display_name": "Python 3 (ipykernel)",
   "language": "python",
   "name": "python3"
  },
  "language_info": {
   "codemirror_mode": {
    "name": "ipython",
    "version": 3
   },
   "file_extension": ".py",
   "mimetype": "text/x-python",
   "name": "python",
   "nbconvert_exporter": "python",
   "pygments_lexer": "ipython3",
   "version": "3.12.3"
  }
 },
 "nbformat": 4,
 "nbformat_minor": 5
}
