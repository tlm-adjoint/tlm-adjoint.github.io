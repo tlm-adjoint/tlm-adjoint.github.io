{
 "cells": [
  {
   "cell_type": "markdown",
   "id": "82be80f5-acad-4947-8f9a-c6a7a87a7ace",
   "metadata": {},
   "source": [
    "# Hessian-based uncertainty quantification\n",
    "\n",
    "**Author:** James R. Maddison\n",
    "\n",
    "This notebook describes the use of tlm_adjoint for Hessian-based uncertainty quantification. The approach is based on the method described in\n",
    "\n",
    "- Tobin Isaac, Noemi Petra, Georg Stadler, and Omar Ghattas, 'Scalable and efficient algorithms for the propagation of uncertainty from data through inference to prediction for large-scale problems, with application to flow of the Antarctic ice sheet', Journal of Computational Physics, 296, pp. 348&ndash;368, 2015, doi: 10.1016/j.jcp.2015.04.047\n",
    "\n",
    "We assume real spaces and a real build of Firedrake throughout.\n",
    "\n",
    "## Uncertainty quantification problem\n",
    "\n",
    "We consider the advection-diffusion equation in the unit square domain\n",
    "\n",
    "$$\\partial_t u + \\nabla^\\perp m \\cdot \\nabla u = \\kappa \\nabla^2 u,$$\n",
    "\n",
    "for some real and positive $\\kappa$ and subject to doubly periodic boundary conditions. We consider a continuous Galerkin finite element discretization in space and an implicit midpoint rule discretization in time, seeking $u_{n + 1} \\in V$ such that\n",
    "\n",
    "$$\\forall \\zeta \\in V \\qquad \\int_\\Omega \\zeta u_{n + 1} + \\Delta t \\int_\\Omega \\zeta \\nabla^\\perp m \\cdot \\nabla \\left[ \\frac{1}{2} ( u_n + u_{n + 1}) \\right]\n",
    "    + \\kappa \\Delta t \\int_\\Omega \\nabla \\zeta \\cdot \\nabla \\left[ \\frac{1}{2} ( u_n + u_{n + 1}) \\right] = \\int_\\Omega \\zeta u_n,$$\n",
    "\n",
    "with timestep size $\\Delta t$ and given some suitable discrete initial condition $u_0 \\in V$. Here $V$ is a real continuous $P_1$ finite element space whose elements satisfy the doubly periodic boundary conditions, and after discretizing we have $m \\in V$. For a given value of $m$ we let $\\hat{u}_N ( m )$ denote the solution obtained after $N$ timesteps. Given an observation for $\\hat{u}_N ( t )$, $u_{obs} \\in V$, we seek to infer information about the control $m$. Here we are specifically seeking to infer the transport, defined in terms of a stream function $m$, which transports the solution from $u_0$ to $u_{obs}$ in time $T$.\n",
    "\n",
    "We first need to model the observational error. For a given value of the control $m$ we treat observations are being realizations of a Gaussian random variable, with mean given by $\\hat{u}_N ( m )$, and with known covariance. Specifically we define a density $p ( u_{obs} | m )$ whose negative logarithm is (up to a normalization term which is neglected here)\n",
    "\n",
    "$$-\\ln p ( u_{obs} | m ) = \\frac{1}{2} R_{obs}^{-1} ( u_{obs} - \\hat{u}_N ( m ), u_{obs} - \\hat{u}_N ( m ) ).$$\n",
    "\n",
    "$R_{obs}^{-1}$ is a bilinear and symmetric positive definite observational inverse covariance operator. Here we choose $R_{obs}^{-1}$ by defining\n",
    "\n",
    "$$R_{obs}^{-1} ( q_i, q_j ) = \\int_\\Omega q_j \\mathcal{L}_{\\sigma_R,d_R}^2 ( q_i ),$$\n",
    "\n",
    "where $\\mathcal{L}_{\\sigma,d} : V \\rightarrow V$ is defined by\n",
    "\n",
    "$$\\forall \\zeta \\in V \\qquad \\frac{1}{\\sqrt{4 \\pi \\sigma^2}} \\left[ \\frac{1}{d} \\int_\\Omega \\zeta q + d \\int_\\Omega \\nabla \\zeta \\cdot \\nabla q \\right] = \\int_\\Omega \\zeta \\mathcal{L}_{\\sigma,d} \\left( q \\right).$$\n",
    "\n",
    "In the continuous and $\\Omega = \\mathbb{R}^2$ case $R_{obs}$ then defines a covariance operator with single point variance $\\sigma_R^2$ and autocorrelation length scale $d_R$ (see Lindgren et al 2011, doi: 10.1111/j.1467-9868.2011.00777.x).\n",
    "\n",
    "We next introduce a prior for the control. We consider a Gaussian prior with mean zero and with known covariance. Specifically we define a prior density $p ( m )$ whose negative logarithm is (again up to a normalization term)\n",
    "\n",
    "$$-\\ln p ( m ) = \\frac{1}{2} B^{-1} ( m, m ).$$\n",
    "\n",
    "$B^{-1}$ is a bilinear and symmetric positive definite observational inverse covariance operator. Here we choose $B^{-1}$ by defining\n",
    "\n",
    "$$B^{-1} ( q_i, q_j ) = \\int_\\Omega q_j \\mathcal{L}_{\\sigma_B,d_B}^2 ( q_i ).$$\n",
    "\n",
    "Now applying Bayes theorem we obtain a posterior density whose negative logarithm is (up to a normalization term)\n",
    "\n",
    "$$-\\ln p ( m | u_{obs} ) = \\frac{1}{2} R_{obs}^{-1} ( u_{obs} - \\hat{u}_N ( m ), u_{obs} - \\hat{u}_N ( m ) ) + \\frac{1}{2} B^{-1} ( m, m ).$$\n",
    "\n",
    "We have made a number of modelling choices, but subject to these choices the posterior density now completely describes the information we have about the control after being supplied with an observation $u_{obs}$. The challenge is that the posterior is defined in a high dimensional space, and is in general not Gaussian. To simplify the problem we *approximate* the posterior with a Gaussian, and specifically make the approximation (up to a normalization term)\n",
    "\n",
    "$$-\\ln p ( m | u_{obs} ) \\approx \\frac{1}{2} \\Gamma_{post}^{-1} ( m - m_{MAP}, m - m_{MAP} ).$$\n",
    "\n",
    "The mean of the Gaussian approximation is set equal to the posterior density maximizer (the Maximum A Posteriori estimate), $m_{map}$. The inverse covariance of the Gaussian approximation, $\\Gamma_{post}^{-1}$, is set equal to the Hessian, $H$, of the negative log posterior density $-\\ln p ( m | u_{obs} )$, defined by differentiating twice with respect to $m$ and evaluated at the posterior density maximizer.\n",
    "\n",
    "Unfortunately in order to quantify uncertainty we require information about the *covariance*, and not the *inverse covariance*. Specifically if we have a linear observational operator $q \\in V^*$ then our estimate for the variance associated with $q ( m )$ is\n",
    "\n",
    "$$\\sigma^2_q \\approx \\Gamma_{post} ( q, q ) = H^{-1} ( q, q ),$$\n",
    "\n",
    "which requires access to information about the Hessian *inverse*.\n",
    "\n",
    "In the following we use two approaches to gain access to this information.\n",
    "\n",
    "1. A low rank update approximation. We approximate the Hessian inverse using a low rank update to the prior covariance, using the methodology of Isaac et al 2015, doi: 10.1016/j.jcp.2015.04.047.\n",
    "2. By computing the Hessian inverse action using a Krylov method, preconditioned using the low rank update approximation.\n",
    "\n",
    "To solve this problem we need several pieces:\n",
    "\n",
    "1. A differentiable solver for the forward problem. We will construct this using Firedrake with tlm_adjoint.\n",
    "2. To find the posterior maximizer. We will use gradient-based optimization using TAO.\n",
    "3. To find a low rank update approximation for the Hessian inverse. We will find this using a partial eigenspectrum obtained using SLEPc.\n",
    "4. To compute the Hessian inverse action. We will compute this using a Krylov method using PETSc, preconditioned using the partial eigenspectrum.\n",
    "\n",
    "## Forward problem\n",
    "\n",
    "We first implement the forward model using Firedrake with tlm_adjoint."
   ]
  },
  {
   "cell_type": "code",
   "execution_count": 1,
   "id": "4d9f4bf6-9c22-45bc-82c6-7b98d356f3e9",
   "metadata": {
    "execution": {
     "iopub.execute_input": "2025-02-11T18:12:08.749466Z",
     "iopub.status.busy": "2025-02-11T18:12:08.748755Z",
     "iopub.status.idle": "2025-02-11T18:12:15.442615Z",
     "shell.execute_reply": "2025-02-11T18:12:15.441909Z"
    }
   },
   "outputs": [],
   "source": [
    "%matplotlib inline\n",
    "\n",
    "from firedrake import *\n",
    "from tlm_adjoint.firedrake import *\n",
    "from firedrake.pyplot import tricontourf\n",
    "\n",
    "import matplotlib.pyplot as plt\n",
    "import numpy as np\n",
    "\n",
    "reset_manager()\n",
    "clear_caches()\n",
    "\n",
    "mesh = PeriodicUnitSquareMesh(40, 40, diagonal=\"crossed\")\n",
    "X = SpatialCoordinate(mesh)\n",
    "space = FunctionSpace(mesh, \"Lagrange\", 1)\n",
    "test = TestFunction(space)\n",
    "trial = TrialFunction(space)\n",
    "\n",
    "T = 0.5\n",
    "N = 10\n",
    "kappa = Constant(1.0e-3, static=True)\n",
    "dt = Constant(T / N, static=True)\n",
    "sigma_R = Constant(0.03)\n",
    "d_R = Constant(0.1)\n",
    "sigma_B = Constant(0.025)\n",
    "d_B = Constant(0.2)\n",
    "u_0 = Function(space, name=\"u_0\").interpolate(\n",
    "    exp(-((X[0] - 0.4) ** 2 + (X[1] - 0.5) ** 2) / (2 * 0.08 * 0.08)))\n",
    "u_obs = Function(space, name=\"u_obs\").interpolate(\n",
    "    exp(-((X[0] - 0.6) ** 2 + (X[1] - 0.5) ** 2) / (2 * 0.08 * 0.08)))\n",
    "\n",
    "\n",
    "def L(sigma, d, q):\n",
    "    u = Function(space)\n",
    "    solve(inner(trial, test) * dx\n",
    "          == (1.0 / sqrt(4.0 * np.pi * sigma * sigma))\n",
    "          * ((1.0 / d) * inner(q, test) * dx + d * inner(grad(q), grad(test)) * dx),\n",
    "          u, solver_parameters={\"ksp_type\": \"preonly\",\n",
    "                                \"pc_type\": \"cholesky\"})\n",
    "    return u\n",
    "\n",
    "\n",
    "def L_inv(sigma, d, q):\n",
    "    u = Function(space)\n",
    "    solve((1.0 / sqrt(4.0 * np.pi * sigma * sigma))\n",
    "          * ((1.0 / d) * inner(trial, test) * dx + d * inner(grad(trial), grad(test)) * dx)\n",
    "          == inner(q, test) * dx,\n",
    "          u, solver_parameters={\"ksp_type\": \"preonly\",\n",
    "                                \"pc_type\": \"cholesky\"})\n",
    "    return u\n",
    "\n",
    "\n",
    "def R_inv_term(q):\n",
    "    L_q = L(sigma_R, d_R, q)\n",
    "    LL_q = L(sigma_R, d_R, L_q)\n",
    "    return Functional(name=\"J_mismatch\").assign(0.5 * inner(LL_q, q) * dx)\n",
    "\n",
    "\n",
    "def R_inv_action(q):\n",
    "    L_q = L(sigma_R, d_R, q)\n",
    "    LL_q = L(sigma_R, d_R, L_q)\n",
    "    return assemble(inner(LL_q, test) * dx)\n",
    "\n",
    "\n",
    "def B_inv_term(q):\n",
    "    L_q = L(sigma_B, d_B, q)\n",
    "    LL_q = L(sigma_B, d_B, L_q)\n",
    "    return Functional(name=\"J_prior\").assign(0.5 * inner(LL_q, q) * dx)\n",
    "\n",
    "\n",
    "def B_inv_action(q):\n",
    "    L_q = L(sigma_B, d_B, q)\n",
    "    LL_q = L(sigma_B, d_B, L_q)\n",
    "    return assemble(inner(LL_q, test) * dx)\n",
    "\n",
    "\n",
    "def B_action(q):\n",
    "    u = Function(space)\n",
    "    solve(inner(trial, test) * dx == q,\n",
    "          u, solver_parameters={\"ksp_type\": \"preonly\",\n",
    "                                \"pc_type\": \"cholesky\"})\n",
    "    Li_q = L_inv(sigma_B, d_B, u)\n",
    "    LiLi_q = L_inv(sigma_B, d_B, Li_q)\n",
    "    return LiLi_q\n",
    "\n",
    "\n",
    "def forward(m):\n",
    "    m = Function(space, cache=True).assign(m)\n",
    "    u_np1 = Function(space, name=\"u_np1\")\n",
    "    u_n = u_0.copy(deepcopy=True)\n",
    "    eq = EquationSolver(inner(trial, test) * dx\n",
    "                        + 0.5 * dt * inner(dot(perp(grad(m)), grad(trial)), test) * dx\n",
    "                        + 0.5 * kappa * dt * inner(grad(trial), grad(test)) * dx\n",
    "                        == inner(u_n, test) * dx\n",
    "                        - 0.5 * dt * inner(dot(perp(grad(m)), grad(u_n)), test) * dx\n",
    "                        - 0.5 * kappa * dt * inner(grad(u_n), grad(test)) * dx,\n",
    "                        u_np1, solver_parameters={\"ksp_type\": \"preonly\",\n",
    "                                                  \"pc_type\": \"lu\"})\n",
    "    for _ in range(N):\n",
    "        eq.solve()\n",
    "        u_n.assign(u_np1)\n",
    "\n",
    "    u_mismatch = Function(space, name=\"u_mismatch\").assign(u_n - u_obs)\n",
    "    J_mismatch = R_inv_term(u_mismatch)\n",
    "    J_prior = B_inv_term(m)\n",
    "    return J_mismatch, J_prior, J_mismatch + J_prior, u_np1"
   ]
  },
  {
   "cell_type": "markdown",
   "id": "d098a1d3-605d-4fc0-8348-c077ff305e3b",
   "metadata": {},
   "source": [
    "Let's first visualize the initial condition $u_0$ and the observation $u_{obs}$ taken a time $T$ later."
   ]
  },
  {
   "cell_type": "code",
   "execution_count": 2,
   "id": "70e37007-ea8b-4247-b1d5-8a9250dba4a2",
   "metadata": {
    "execution": {
     "iopub.execute_input": "2025-02-11T18:12:15.444682Z",
     "iopub.status.busy": "2025-02-11T18:12:15.444353Z",
     "iopub.status.idle": "2025-02-11T18:12:16.441859Z",
     "shell.execute_reply": "2025-02-11T18:12:16.441389Z"
    }
   },
   "outputs": [
    {
     "data": {
      "image/png": "[encoded data removed]",
      "text/plain": [
       "<Figure size 640x480 with 2 Axes>"
      ]
     },
     "metadata": {},
     "output_type": "display_data"
    },
    {
     "data": {
      "image/png": "[encoded data removed]",
      "text/plain": [
       "<Figure size 640x480 with 2 Axes>"
      ]
     },
     "metadata": {},
     "output_type": "display_data"
    }
   ],
   "source": [
    "def plot_output(u, title):\n",
    "    r = (u.dat.data_ro.min(), u.dat.data_ro.max())\n",
    "    eps = (r[1] - r[0]) * 1.0e-12\n",
    "    p = tricontourf(u, np.linspace(r[0] - eps, r[1] + eps, 32))\n",
    "    plt.gca().set_title(title)\n",
    "    plt.colorbar(p)\n",
    "    plt.gca().set_aspect(1.0)\n",
    "\n",
    "\n",
    "plot_output(u_0, r\"$u_0$\")\n",
    "plot_output(u_obs, r\"$u_{obs}$\")"
   ]
  },
  {
   "cell_type": "markdown",
   "id": "b0784d97-de82-4d40-91a0-f031177b69ab",
   "metadata": {},
   "source": [
    "## Quantities of interest\n",
    "\n",
    "In the following discussion we seek to quantify uncertainties in *quantities of interest*. These are defined using linear functionals, say $q \\in V^*$. Given some value of the control $m$, $q ( m )$ is the value of the quantity of interest. Moreover, given the Maximum A Posteriori estimate $m_{map}$ for the control (the posterior density maximizer), the estimate for the posterior mean of the quantity of interest is given by\n",
    "\n",
    "$$\\mu_{q,posterior} \\approx q ( m_{map} ).$$\n",
    "\n",
    "To obtain uncertainty estimates we need a covariance operator. Note that a covariance operator, say $\\Gamma_{post}$, is a bilinear operator, $\\Gamma_{post} : V^* \\times V^* \\rightarrow \\mathbb{R}$. It takes the linear functionals we use to obtain values for two quantities of interest, and gives us a value for a covariance between them. In particular the estimate for the posterior uncertainty in a single quantity of interest, defined by a linear functional $q \\in V^*$, is\n",
    "\n",
    "$$\\sigma_{q,posterior} \\approx \\sqrt{ \\Gamma_{post} ( q, q ) } = \\sqrt{ H^{-1} ( q, q ) }.$$\n",
    "\n",
    "## Finding the posterior maximizer\n",
    "\n",
    "We now find the posterior density maximizer, which corresponds to seeking a minimum of the negative log posterior density. We solve this problem using the Toolkit for Advanced Optimization (TAO), with the Limited-Memory Variable Metric (LMVM) approach. This is a gradient-based approach, so let's first verify the adjoint using Taylor verification."
   ]
  },
  {
   "cell_type": "code",
   "execution_count": 3,
   "id": "13af8c73-fde1-43f9-a118-961b2c4eecac",
   "metadata": {
    "execution": {
     "iopub.execute_input": "2025-02-11T18:12:16.443598Z",
     "iopub.status.busy": "2025-02-11T18:12:16.443409Z",
     "iopub.status.idle": "2025-02-11T18:12:24.370019Z",
     "shell.execute_reply": "2025-02-11T18:12:24.369433Z"
    }
   },
   "outputs": [
    {
     "name": "stdout",
     "output_type": "stream",
     "text": [
      "Error norms, no adjoint   = [1.53027865e-04 7.39407643e-05 3.63270898e-05 1.80027218e-05\n",
      " 8.96115500e-06]\n"
     ]
    },
    {
     "name": "stdout",
     "output_type": "stream",
     "text": [
      "Orders,      no adjoint   = [1.04935252 1.02532416 1.01283075 1.00645844]\n"
     ]
    },
    {
     "name": "stdout",
     "output_type": "stream",
     "text": [
      "Error norms, with adjoint = [1.02926724e-05 2.57316785e-06 6.43291602e-07 1.60822709e-07\n",
      " 4.02054503e-08]\n"
     ]
    },
    {
     "name": "stdout",
     "output_type": "stream",
     "text": [
      "Orders,      with adjoint = [2.00000013 2.00000081 2.00000172 2.00000815]\n"
     ]
    }
   ],
   "source": [
    "m_0 = Function(space, name=\"m_0\").interpolate(\n",
    "    0.06 * sin(2 * pi * X[1]))\n",
    "\n",
    "reset_manager()\n",
    "start_manager()\n",
    "_, _, J, _ = forward(m_0)\n",
    "stop_manager()\n",
    "\n",
    "dJ = compute_gradient(J, m_0)\n",
    "dm = Function(space, name=\"dm\").interpolate(\n",
    "    sin(4 * pi * X[0]) * cos(6 * pi * X[1]))\n",
    "min_order = taylor_test(lambda m: forward(m)[2], m_0, J_val=J.value, dJ=dJ, dM=dm, seed=1.0e-6)\n",
    "assert min_order > 1.99"
   ]
  },
  {
   "cell_type": "markdown",
   "id": "b4c644d0-29ac-4b50-84c7-93c8a3089de3",
   "metadata": {},
   "source": [
    "Next we solve the optimization problem. The considered problem seeks to infer the transport in the advection-diffusion equation, in terms of a stream function. Initially the tracer is concentrated on the left, and the observation taken a time $T$ later has the tracer moved to the right. The variable `m_0`, which will define our initial guess for the optimization, is set so that the velocity at the center has approximately the correct magnitude for this transport.\n",
    "\n",
    "As usual we need to define an appropriate inner product associated with derivatives. Here the prior defines a natural inner product &ndash; specifically we can use the prior covariance, $B$, to define an inner product for the dual space $V^*$."
   ]
  },
  {
   "cell_type": "code",
   "execution_count": 4,
   "id": "5a8a5ee0-2bec-4141-b7d3-d1b9834ff9a3",
   "metadata": {
    "execution": {
     "iopub.execute_input": "2025-02-11T18:12:24.371714Z",
     "iopub.status.busy": "2025-02-11T18:12:24.371536Z",
     "iopub.status.idle": "2025-02-11T18:17:20.348441Z",
     "shell.execute_reply": "2025-02-11T18:17:20.347962Z"
    }
   },
   "outputs": [
    {
     "name": "stdout",
     "output_type": "stream",
     "text": [
      "  Iteration information for _tlm_adjoint__Tao_0xc4000003_0_ solve.\n",
      "  0 TAO,  Function value: 142.531,  Residual: 252.076 \n"
     ]
    },
    {
     "name": "stdout",
     "output_type": "stream",
     "text": [
      "  1 TAO,  Function value: 75.6093,  Residual: 78.5923 \n"
     ]
    },
    {
     "name": "stdout",
     "output_type": "stream",
     "text": [
      "  2 TAO,  Function value: 68.3955,  Residual: 48.098 \n"
     ]
    },
    {
     "name": "stdout",
     "output_type": "stream",
     "text": [
      "  3 TAO,  Function value: 64.8572,  Residual: 33.5383 \n"
     ]
    },
    {
     "name": "stdout",
     "output_type": "stream",
     "text": [
      "  4 TAO,  Function value: 60.3369,  Residual: 27.2206 \n"
     ]
    },
    {
     "name": "stdout",
     "output_type": "stream",
     "text": [
      "  5 TAO,  Function value: 58.3236,  Residual: 25.1547 \n"
     ]
    },
    {
     "name": "stdout",
     "output_type": "stream",
     "text": [
      "  6 TAO,  Function value: 56.863,  Residual: 15.66 \n"
     ]
    },
    {
     "name": "stdout",
     "output_type": "stream",
     "text": [
      "  7 TAO,  Function value: 56.2613,  Residual: 23.2133 \n"
     ]
    },
    {
     "name": "stdout",
     "output_type": "stream",
     "text": [
      "  8 TAO,  Function value: 56.0512,  Residual: 29.4124 \n"
     ]
    },
    {
     "name": "stdout",
     "output_type": "stream",
     "text": [
      "  9 TAO,  Function value: 55.5922,  Residual: 25.9102 \n"
     ]
    },
    {
     "name": "stdout",
     "output_type": "stream",
     "text": [
      " 10 TAO,  Function value: 54.986,  Residual: 29.7655 \n"
     ]
    },
    {
     "name": "stdout",
     "output_type": "stream",
     "text": [
      " 11 TAO,  Function value: 54.6658,  Residual: 27.5321 \n"
     ]
    },
    {
     "name": "stdout",
     "output_type": "stream",
     "text": [
      " 12 TAO,  Function value: 54.0866,  Residual: 31.1733 \n"
     ]
    },
    {
     "name": "stdout",
     "output_type": "stream",
     "text": [
      " 13 TAO,  Function value: 53.6629,  Residual: 27.9583 \n"
     ]
    },
    {
     "name": "stdout",
     "output_type": "stream",
     "text": [
      " 14 TAO,  Function value: 53.4698,  Residual: 24.8065 \n"
     ]
    },
    {
     "name": "stdout",
     "output_type": "stream",
     "text": [
      " 15 TAO,  Function value: 53.1749,  Residual: 22.2047 \n"
     ]
    },
    {
     "name": "stdout",
     "output_type": "stream",
     "text": [
      " 16 TAO,  Function value: 53.0568,  Residual: 22.6377 \n"
     ]
    },
    {
     "name": "stdout",
     "output_type": "stream",
     "text": [
      " 17 TAO,  Function value: 52.6485,  Residual: 17.693 \n"
     ]
    },
    {
     "name": "stdout",
     "output_type": "stream",
     "text": [
      " 18 TAO,  Function value: 52.3048,  Residual: 20.5252 \n"
     ]
    },
    {
     "name": "stdout",
     "output_type": "stream",
     "text": [
      " 19 TAO,  Function value: 51.9384,  Residual: 18.2042 \n"
     ]
    },
    {
     "name": "stdout",
     "output_type": "stream",
     "text": [
      " 20 TAO,  Function value: 51.6112,  Residual: 12.7694 \n"
     ]
    },
    {
     "name": "stdout",
     "output_type": "stream",
     "text": [
      " 21 TAO,  Function value: 51.2598,  Residual: 16.009 \n"
     ]
    },
    {
     "name": "stdout",
     "output_type": "stream",
     "text": [
      " 22 TAO,  Function value: 50.8641,  Residual: 13.3265 \n"
     ]
    },
    {
     "name": "stdout",
     "output_type": "stream",
     "text": [
      " 23 TAO,  Function value: 50.6379,  Residual: 13.2171 \n"
     ]
    },
    {
     "name": "stdout",
     "output_type": "stream",
     "text": [
      " 24 TAO,  Function value: 50.4164,  Residual: 15.321 \n"
     ]
    },
    {
     "name": "stdout",
     "output_type": "stream",
     "text": [
      " 25 TAO,  Function value: 49.9947,  Residual: 10.4495 \n"
     ]
    },
    {
     "name": "stdout",
     "output_type": "stream",
     "text": [
      " 26 TAO,  Function value: 49.7759,  Residual: 9.19296 \n"
     ]
    },
    {
     "name": "stdout",
     "output_type": "stream",
     "text": [
      " 27 TAO,  Function value: 49.6278,  Residual: 13.802 \n"
     ]
    },
    {
     "name": "stdout",
     "output_type": "stream",
     "text": [
      " 28 TAO,  Function value: 49.5019,  Residual: 10.8119 \n"
     ]
    },
    {
     "name": "stdout",
     "output_type": "stream",
     "text": [
      " 29 TAO,  Function value: 49.4283,  Residual: 11.1461 \n"
     ]
    },
    {
     "name": "stdout",
     "output_type": "stream",
     "text": [
      " 30 TAO,  Function value: 49.3206,  Residual: 11.6553 \n"
     ]
    },
    {
     "name": "stdout",
     "output_type": "stream",
     "text": [
      " 31 TAO,  Function value: 49.2344,  Residual: 13.5738 \n"
     ]
    },
    {
     "name": "stdout",
     "output_type": "stream",
     "text": [
      " 32 TAO,  Function value: 49.0752,  Residual: 12.4629 \n"
     ]
    },
    {
     "name": "stdout",
     "output_type": "stream",
     "text": [
      " 33 TAO,  Function value: 48.9742,  Residual: 12.9785 \n"
     ]
    },
    {
     "name": "stdout",
     "output_type": "stream",
     "text": [
      " 34 TAO,  Function value: 48.8608,  Residual: 9.69846 \n"
     ]
    },
    {
     "name": "stdout",
     "output_type": "stream",
     "text": [
      " 35 TAO,  Function value: 48.7065,  Residual: 12.143 \n"
     ]
    },
    {
     "name": "stdout",
     "output_type": "stream",
     "text": [
      " 36 TAO,  Function value: 48.653,  Residual: 11.1146 \n"
     ]
    },
    {
     "name": "stdout",
     "output_type": "stream",
     "text": [
      " 37 TAO,  Function value: 48.5809,  Residual: 14.2326 \n"
     ]
    },
    {
     "name": "stdout",
     "output_type": "stream",
     "text": [
      " 38 TAO,  Function value: 48.5129,  Residual: 13.3145 \n"
     ]
    },
    {
     "name": "stdout",
     "output_type": "stream",
     "text": [
      " 39 TAO,  Function value: 48.4525,  Residual: 13.0799 \n"
     ]
    },
    {
     "name": "stdout",
     "output_type": "stream",
     "text": [
      " 40 TAO,  Function value: 48.3492,  Residual: 8.95482 \n"
     ]
    },
    {
     "name": "stdout",
     "output_type": "stream",
     "text": [
      " 41 TAO,  Function value: 48.3188,  Residual: 10.6709 \n"
     ]
    },
    {
     "name": "stdout",
     "output_type": "stream",
     "text": [
      " 42 TAO,  Function value: 48.2868,  Residual: 9.38934 \n"
     ]
    },
    {
     "name": "stdout",
     "output_type": "stream",
     "text": [
      " 43 TAO,  Function value: 48.2554,  Residual: 8.40332 \n"
     ]
    },
    {
     "name": "stdout",
     "output_type": "stream",
     "text": [
      " 44 TAO,  Function value: 48.2185,  Residual: 8.02572 \n"
     ]
    },
    {
     "name": "stdout",
     "output_type": "stream",
     "text": [
      " 45 TAO,  Function value: 48.1992,  Residual: 7.70232 \n"
     ]
    },
    {
     "name": "stdout",
     "output_type": "stream",
     "text": [
      " 46 TAO,  Function value: 48.1456,  Residual: 5.1021 \n"
     ]
    },
    {
     "name": "stdout",
     "output_type": "stream",
     "text": [
      " 47 TAO,  Function value: 48.1372,  Residual: 5.88148 \n"
     ]
    },
    {
     "name": "stdout",
     "output_type": "stream",
     "text": [
      " 48 TAO,  Function value: 48.1283,  Residual: 5.77235 \n"
     ]
    },
    {
     "name": "stdout",
     "output_type": "stream",
     "text": [
      " 49 TAO,  Function value: 48.1185,  Residual: 6.27168 \n"
     ]
    },
    {
     "name": "stdout",
     "output_type": "stream",
     "text": [
      " 50 TAO,  Function value: 48.1009,  Residual: 7.03941 \n"
     ]
    },
    {
     "name": "stdout",
     "output_type": "stream",
     "text": [
      " 51 TAO,  Function value: 48.0807,  Residual: 6.32074 \n"
     ]
    },
    {
     "name": "stdout",
     "output_type": "stream",
     "text": [
      " 52 TAO,  Function value: 48.0587,  Residual: 5.77033 \n"
     ]
    },
    {
     "name": "stdout",
     "output_type": "stream",
     "text": [
      " 53 TAO,  Function value: 48.0507,  Residual: 5.9735 \n"
     ]
    },
    {
     "name": "stdout",
     "output_type": "stream",
     "text": [
      " 54 TAO,  Function value: 48.0441,  Residual: 6.11227 \n"
     ]
    },
    {
     "name": "stdout",
     "output_type": "stream",
     "text": [
      " 55 TAO,  Function value: 48.0354,  Residual: 5.9437 \n"
     ]
    },
    {
     "name": "stdout",
     "output_type": "stream",
     "text": [
      " 56 TAO,  Function value: 48.0288,  Residual: 5.77922 \n"
     ]
    },
    {
     "name": "stdout",
     "output_type": "stream",
     "text": [
      " 57 TAO,  Function value: 48.0038,  Residual: 4.15742 \n"
     ]
    },
    {
     "name": "stdout",
     "output_type": "stream",
     "text": [
      " 58 TAO,  Function value: 47.9882,  Residual: 5.2115 \n"
     ]
    },
    {
     "name": "stdout",
     "output_type": "stream",
     "text": [
      " 59 TAO,  Function value: 47.9825,  Residual: 5.35641 \n"
     ]
    },
    {
     "name": "stdout",
     "output_type": "stream",
     "text": [
      " 60 TAO,  Function value: 47.9765,  Residual: 5.38986 \n"
     ]
    },
    {
     "name": "stdout",
     "output_type": "stream",
     "text": [
      " 61 TAO,  Function value: 47.9743,  Residual: 5.33913 \n"
     ]
    },
    {
     "name": "stdout",
     "output_type": "stream",
     "text": [
      " 62 TAO,  Function value: 47.969,  Residual: 5.18917 \n"
     ]
    },
    {
     "name": "stdout",
     "output_type": "stream",
     "text": [
      " 63 TAO,  Function value: 47.943,  Residual: 1.76783 \n"
     ]
    },
    {
     "name": "stdout",
     "output_type": "stream",
     "text": [
      " 64 TAO,  Function value: 47.9422,  Residual: 1.92053 \n"
     ]
    },
    {
     "name": "stdout",
     "output_type": "stream",
     "text": [
      " 65 TAO,  Function value: 47.9411,  Residual: 2.04986 \n"
     ]
    },
    {
     "name": "stdout",
     "output_type": "stream",
     "text": [
      " 66 TAO,  Function value: 47.9398,  Residual: 1.97927 \n"
     ]
    },
    {
     "name": "stdout",
     "output_type": "stream",
     "text": [
      " 67 TAO,  Function value: 47.9388,  Residual: 1.80429 \n"
     ]
    },
    {
     "name": "stdout",
     "output_type": "stream",
     "text": [
      " 68 TAO,  Function value: 47.9366,  Residual: 1.57006 \n"
     ]
    },
    {
     "name": "stdout",
     "output_type": "stream",
     "text": [
      " 69 TAO,  Function value: 47.9339,  Residual: 0.475357 \n"
     ]
    },
    {
     "name": "stdout",
     "output_type": "stream",
     "text": [
      " 70 TAO,  Function value: 47.9335,  Residual: 0.33338 \n"
     ]
    },
    {
     "name": "stdout",
     "output_type": "stream",
     "text": [
      " 71 TAO,  Function value: 47.9327,  Residual: 0.651869 \n"
     ]
    },
    {
     "name": "stdout",
     "output_type": "stream",
     "text": [
      " 72 TAO,  Function value: 47.932,  Residual: 0.578996 \n"
     ]
    },
    {
     "name": "stdout",
     "output_type": "stream",
     "text": [
      " 73 TAO,  Function value: 47.9312,  Residual: 0.507469 \n"
     ]
    },
    {
     "name": "stdout",
     "output_type": "stream",
     "text": [
      " 74 TAO,  Function value: 47.9306,  Residual: 0.39863 \n"
     ]
    },
    {
     "name": "stdout",
     "output_type": "stream",
     "text": [
      " 75 TAO,  Function value: 47.9302,  Residual: 0.319103 \n"
     ]
    },
    {
     "name": "stdout",
     "output_type": "stream",
     "text": [
      " 76 TAO,  Function value: 47.93,  Residual: 0.313146 \n"
     ]
    },
    {
     "name": "stdout",
     "output_type": "stream",
     "text": [
      " 77 TAO,  Function value: 47.9296,  Residual: 0.254428 \n"
     ]
    },
    {
     "name": "stdout",
     "output_type": "stream",
     "text": [
      " 78 TAO,  Function value: 47.9294,  Residual: 0.251318 \n"
     ]
    },
    {
     "name": "stdout",
     "output_type": "stream",
     "text": [
      " 79 TAO,  Function value: 47.9293,  Residual: 0.245813 \n"
     ]
    },
    {
     "name": "stdout",
     "output_type": "stream",
     "text": [
      " 80 TAO,  Function value: 47.9292,  Residual: 0.21433 \n"
     ]
    },
    {
     "name": "stdout",
     "output_type": "stream",
     "text": [
      " 81 TAO,  Function value: 47.929,  Residual: 0.220371 \n"
     ]
    },
    {
     "name": "stdout",
     "output_type": "stream",
     "text": [
      " 82 TAO,  Function value: 47.9289,  Residual: 0.177634 \n"
     ]
    },
    {
     "name": "stdout",
     "output_type": "stream",
     "text": [
      " 83 TAO,  Function value: 47.9288,  Residual: 0.174963 \n"
     ]
    },
    {
     "name": "stdout",
     "output_type": "stream",
     "text": [
      " 84 TAO,  Function value: 47.9287,  Residual: 0.178319 \n"
     ]
    },
    {
     "name": "stdout",
     "output_type": "stream",
     "text": [
      " 85 TAO,  Function value: 47.9286,  Residual: 0.191331 \n"
     ]
    },
    {
     "name": "stdout",
     "output_type": "stream",
     "text": [
      " 86 TAO,  Function value: 47.9286,  Residual: 0.182096 \n"
     ]
    },
    {
     "name": "stdout",
     "output_type": "stream",
     "text": [
      " 87 TAO,  Function value: 47.9285,  Residual: 0.163242 \n"
     ]
    },
    {
     "name": "stdout",
     "output_type": "stream",
     "text": [
      " 88 TAO,  Function value: 47.9284,  Residual: 0.148827 \n"
     ]
    },
    {
     "name": "stdout",
     "output_type": "stream",
     "text": [
      " 89 TAO,  Function value: 47.9283,  Residual: 0.174567 \n"
     ]
    },
    {
     "name": "stdout",
     "output_type": "stream",
     "text": [
      " 90 TAO,  Function value: 47.9282,  Residual: 0.147905 \n"
     ]
    },
    {
     "name": "stdout",
     "output_type": "stream",
     "text": [
      " 91 TAO,  Function value: 47.9282,  Residual: 0.132948 \n"
     ]
    },
    {
     "name": "stdout",
     "output_type": "stream",
     "text": [
      " 92 TAO,  Function value: 47.9281,  Residual: 0.147412 \n"
     ]
    },
    {
     "name": "stdout",
     "output_type": "stream",
     "text": [
      " 93 TAO,  Function value: 47.9281,  Residual: 0.153246 \n"
     ]
    },
    {
     "name": "stdout",
     "output_type": "stream",
     "text": [
      " 94 TAO,  Function value: 47.928,  Residual: 0.142848 \n"
     ]
    },
    {
     "name": "stdout",
     "output_type": "stream",
     "text": [
      " 95 TAO,  Function value: 47.928,  Residual: 0.122535 \n"
     ]
    },
    {
     "name": "stdout",
     "output_type": "stream",
     "text": [
      " 96 TAO,  Function value: 47.9279,  Residual: 0.0834194 \n"
     ]
    },
    {
     "name": "stdout",
     "output_type": "stream",
     "text": [
      " 97 TAO,  Function value: 47.9279,  Residual: 0.107939 \n"
     ]
    },
    {
     "name": "stdout",
     "output_type": "stream",
     "text": [
      " 98 TAO,  Function value: 47.9279,  Residual: 0.0762585 \n"
     ]
    },
    {
     "name": "stdout",
     "output_type": "stream",
     "text": [
      " 99 TAO,  Function value: 47.9278,  Residual: 0.0819795 \n"
     ]
    },
    {
     "name": "stdout",
     "output_type": "stream",
     "text": [
      "100 TAO,  Function value: 47.9278,  Residual: 0.0840937 \n"
     ]
    },
    {
     "name": "stdout",
     "output_type": "stream",
     "text": [
      "101 TAO,  Function value: 47.9278,  Residual: 0.0689404 \n"
     ]
    },
    {
     "name": "stdout",
     "output_type": "stream",
     "text": [
      "102 TAO,  Function value: 47.9278,  Residual: 0.0541431 \n"
     ]
    },
    {
     "name": "stdout",
     "output_type": "stream",
     "text": [
      "103 TAO,  Function value: 47.9278,  Residual: 0.0663468 \n"
     ]
    },
    {
     "name": "stdout",
     "output_type": "stream",
     "text": [
      "104 TAO,  Function value: 47.9278,  Residual: 0.0484867 \n"
     ]
    },
    {
     "name": "stdout",
     "output_type": "stream",
     "text": [
      "105 TAO,  Function value: 47.9278,  Residual: 0.045401 \n"
     ]
    },
    {
     "name": "stdout",
     "output_type": "stream",
     "text": [
      "106 TAO,  Function value: 47.9278,  Residual: 0.0331168 \n"
     ]
    },
    {
     "name": "stdout",
     "output_type": "stream",
     "text": [
      "107 TAO,  Function value: 47.9278,  Residual: 0.0414855 \n"
     ]
    },
    {
     "name": "stdout",
     "output_type": "stream",
     "text": [
      "108 TAO,  Function value: 47.9278,  Residual: 0.0321411 \n"
     ]
    },
    {
     "name": "stdout",
     "output_type": "stream",
     "text": [
      "109 TAO,  Function value: 47.9278,  Residual: 0.0333852 \n"
     ]
    },
    {
     "name": "stdout",
     "output_type": "stream",
     "text": [
      "110 TAO,  Function value: 47.9278,  Residual: 0.0253775 \n"
     ]
    },
    {
     "name": "stdout",
     "output_type": "stream",
     "text": [
      "111 TAO,  Function value: 47.9278,  Residual: 0.0276427 \n"
     ]
    },
    {
     "name": "stdout",
     "output_type": "stream",
     "text": [
      "112 TAO,  Function value: 47.9278,  Residual: 0.0246038 \n"
     ]
    },
    {
     "name": "stdout",
     "output_type": "stream",
     "text": [
      "113 TAO,  Function value: 47.9278,  Residual: 0.0212976 \n"
     ]
    },
    {
     "name": "stdout",
     "output_type": "stream",
     "text": [
      "114 TAO,  Function value: 47.9278,  Residual: 0.0176099 \n"
     ]
    },
    {
     "name": "stdout",
     "output_type": "stream",
     "text": [
      "115 TAO,  Function value: 47.9278,  Residual: 0.0234908 \n"
     ]
    },
    {
     "name": "stdout",
     "output_type": "stream",
     "text": [
      "116 TAO,  Function value: 47.9277,  Residual: 0.0195269 \n"
     ]
    },
    {
     "name": "stdout",
     "output_type": "stream",
     "text": [
      "117 TAO,  Function value: 47.9277,  Residual: 0.0195515 \n"
     ]
    },
    {
     "name": "stdout",
     "output_type": "stream",
     "text": [
      "118 TAO,  Function value: 47.9277,  Residual: 0.0147668 \n"
     ]
    },
    {
     "name": "stdout",
     "output_type": "stream",
     "text": [
      "119 TAO,  Function value: 47.9277,  Residual: 0.0140406 \n"
     ]
    },
    {
     "name": "stdout",
     "output_type": "stream",
     "text": [
      "120 TAO,  Function value: 47.9277,  Residual: 0.0196471 \n"
     ]
    },
    {
     "name": "stdout",
     "output_type": "stream",
     "text": [
      "121 TAO,  Function value: 47.9277,  Residual: 0.0141066 \n"
     ]
    },
    {
     "name": "stdout",
     "output_type": "stream",
     "text": [
      "122 TAO,  Function value: 47.9277,  Residual: 0.0152511 \n"
     ]
    },
    {
     "name": "stdout",
     "output_type": "stream",
     "text": [
      "123 TAO,  Function value: 47.9277,  Residual: 0.0134685 \n"
     ]
    },
    {
     "name": "stdout",
     "output_type": "stream",
     "text": [
      "124 TAO,  Function value: 47.9277,  Residual: 0.0123951 \n"
     ]
    },
    {
     "name": "stdout",
     "output_type": "stream",
     "text": [
      "125 TAO,  Function value: 47.9277,  Residual: 0.0122123 \n"
     ]
    },
    {
     "name": "stdout",
     "output_type": "stream",
     "text": [
      "126 TAO,  Function value: 47.9277,  Residual: 0.0094902 \n"
     ]
    },
    {
     "name": "stdout",
     "output_type": "stream",
     "text": [
      "127 TAO,  Function value: 47.9277,  Residual: 0.00801 \n"
     ]
    },
    {
     "name": "stdout",
     "output_type": "stream",
     "text": [
      "128 TAO,  Function value: 47.9277,  Residual: 0.00915635 \n"
     ]
    },
    {
     "name": "stdout",
     "output_type": "stream",
     "text": [
      "129 TAO,  Function value: 47.9277,  Residual: 0.010036 \n"
     ]
    },
    {
     "name": "stdout",
     "output_type": "stream",
     "text": [
      "130 TAO,  Function value: 47.9277,  Residual: 0.00843599 \n"
     ]
    },
    {
     "name": "stdout",
     "output_type": "stream",
     "text": [
      "131 TAO,  Function value: 47.9277,  Residual: 0.00597544 \n"
     ]
    },
    {
     "name": "stdout",
     "output_type": "stream",
     "text": [
      "132 TAO,  Function value: 47.9277,  Residual: 0.00627831 \n"
     ]
    },
    {
     "name": "stdout",
     "output_type": "stream",
     "text": [
      "133 TAO,  Function value: 47.9277,  Residual: 0.00565721 \n"
     ]
    },
    {
     "name": "stdout",
     "output_type": "stream",
     "text": [
      "134 TAO,  Function value: 47.9277,  Residual: 0.00453639 \n"
     ]
    },
    {
     "name": "stdout",
     "output_type": "stream",
     "text": [
      "135 TAO,  Function value: 47.9277,  Residual: 0.00475772 \n"
     ]
    },
    {
     "name": "stdout",
     "output_type": "stream",
     "text": [
      "136 TAO,  Function value: 47.9277,  Residual: 0.0042917 \n"
     ]
    },
    {
     "name": "stdout",
     "output_type": "stream",
     "text": [
      "137 TAO,  Function value: 47.9277,  Residual: 0.00380307 \n"
     ]
    },
    {
     "name": "stdout",
     "output_type": "stream",
     "text": [
      "138 TAO,  Function value: 47.9277,  Residual: 0.00379156 \n"
     ]
    },
    {
     "name": "stdout",
     "output_type": "stream",
     "text": [
      "139 TAO,  Function value: 47.9277,  Residual: 0.00279111 \n"
     ]
    },
    {
     "name": "stdout",
     "output_type": "stream",
     "text": [
      "140 TAO,  Function value: 47.9277,  Residual: 0.00249391 \n"
     ]
    },
    {
     "name": "stdout",
     "output_type": "stream",
     "text": [
      "141 TAO,  Function value: 47.9277,  Residual: 0.00259602 \n"
     ]
    },
    {
     "name": "stdout",
     "output_type": "stream",
     "text": [
      "142 TAO,  Function value: 47.9277,  Residual: 0.00220737 \n"
     ]
    },
    {
     "name": "stdout",
     "output_type": "stream",
     "text": [
      "143 TAO,  Function value: 47.9277,  Residual: 0.00267611 \n"
     ]
    },
    {
     "name": "stdout",
     "output_type": "stream",
     "text": [
      "144 TAO,  Function value: 47.9277,  Residual: 0.00177509 \n"
     ]
    },
    {
     "name": "stdout",
     "output_type": "stream",
     "text": [
      "145 TAO,  Function value: 47.9277,  Residual: 0.00171059 \n"
     ]
    },
    {
     "name": "stdout",
     "output_type": "stream",
     "text": [
      "146 TAO,  Function value: 47.9277,  Residual: 0.0017233 \n"
     ]
    },
    {
     "name": "stdout",
     "output_type": "stream",
     "text": [
      "147 TAO,  Function value: 47.9277,  Residual: 0.00151372 \n"
     ]
    },
    {
     "name": "stdout",
     "output_type": "stream",
     "text": [
      "148 TAO,  Function value: 47.9277,  Residual: 0.00138971 \n"
     ]
    },
    {
     "name": "stdout",
     "output_type": "stream",
     "text": [
      "149 TAO,  Function value: 47.9277,  Residual: 0.001482 \n"
     ]
    },
    {
     "name": "stdout",
     "output_type": "stream",
     "text": [
      "150 TAO,  Function value: 47.9277,  Residual: 0.00117255 \n"
     ]
    },
    {
     "name": "stdout",
     "output_type": "stream",
     "text": [
      "151 TAO,  Function value: 47.9277,  Residual: 0.00145642 \n"
     ]
    },
    {
     "name": "stdout",
     "output_type": "stream",
     "text": [
      "152 TAO,  Function value: 47.9277,  Residual: 0.00110994 \n"
     ]
    },
    {
     "name": "stdout",
     "output_type": "stream",
     "text": [
      "153 TAO,  Function value: 47.9277,  Residual: 0.000840458 \n"
     ]
    },
    {
     "name": "stdout",
     "output_type": "stream",
     "text": [
      "154 TAO,  Function value: 47.9277,  Residual: 0.000998263 \n"
     ]
    },
    {
     "name": "stdout",
     "output_type": "stream",
     "text": [
      "155 TAO,  Function value: 47.9277,  Residual: 0.000825243 \n"
     ]
    },
    {
     "name": "stdout",
     "output_type": "stream",
     "text": [
      "156 TAO,  Function value: 47.9277,  Residual: 0.000684567 \n"
     ]
    },
    {
     "name": "stdout",
     "output_type": "stream",
     "text": [
      "157 TAO,  Function value: 47.9277,  Residual: 0.0007538 \n"
     ]
    },
    {
     "name": "stdout",
     "output_type": "stream",
     "text": [
      "158 TAO,  Function value: 47.9277,  Residual: 0.000828911 \n"
     ]
    },
    {
     "name": "stdout",
     "output_type": "stream",
     "text": [
      "159 TAO,  Function value: 47.9277,  Residual: 0.000572778 \n"
     ]
    },
    {
     "name": "stdout",
     "output_type": "stream",
     "text": [
      "160 TAO,  Function value: 47.9277,  Residual: 0.000585657 \n"
     ]
    },
    {
     "name": "stdout",
     "output_type": "stream",
     "text": [
      "161 TAO,  Function value: 47.9277,  Residual: 0.000589801 \n"
     ]
    },
    {
     "name": "stdout",
     "output_type": "stream",
     "text": [
      "162 TAO,  Function value: 47.9277,  Residual: 0.000538613 \n"
     ]
    },
    {
     "name": "stdout",
     "output_type": "stream",
     "text": [
      "163 TAO,  Function value: 47.9277,  Residual: 0.000491709 \n"
     ]
    },
    {
     "name": "stdout",
     "output_type": "stream",
     "text": [
      "164 TAO,  Function value: 47.9277,  Residual: 0.000529918 \n"
     ]
    },
    {
     "name": "stdout",
     "output_type": "stream",
     "text": [
      "165 TAO,  Function value: 47.9277,  Residual: 0.000453533 \n"
     ]
    },
    {
     "name": "stdout",
     "output_type": "stream",
     "text": [
      "166 TAO,  Function value: 47.9277,  Residual: 0.000519699 \n"
     ]
    },
    {
     "name": "stdout",
     "output_type": "stream",
     "text": [
      "167 TAO,  Function value: 47.9277,  Residual: 0.000291751 \n"
     ]
    },
    {
     "name": "stdout",
     "output_type": "stream",
     "text": [
      "168 TAO,  Function value: 47.9277,  Residual: 0.000361911 \n"
     ]
    },
    {
     "name": "stdout",
     "output_type": "stream",
     "text": [
      "169 TAO,  Function value: 47.9277,  Residual: 0.000325335 \n"
     ]
    },
    {
     "name": "stdout",
     "output_type": "stream",
     "text": [
      "170 TAO,  Function value: 47.9277,  Residual: 0.000232697 \n"
     ]
    },
    {
     "name": "stdout",
     "output_type": "stream",
     "text": [
      "171 TAO,  Function value: 47.9277,  Residual: 0.000317886 \n"
     ]
    },
    {
     "name": "stdout",
     "output_type": "stream",
     "text": [
      "172 TAO,  Function value: 47.9277,  Residual: 0.000249638 \n"
     ]
    },
    {
     "name": "stdout",
     "output_type": "stream",
     "text": [
      "173 TAO,  Function value: 47.9277,  Residual: 0.000214059 \n"
     ]
    },
    {
     "name": "stdout",
     "output_type": "stream",
     "text": [
      "174 TAO,  Function value: 47.9277,  Residual: 0.000248203 \n"
     ]
    },
    {
     "name": "stdout",
     "output_type": "stream",
     "text": [
      "175 TAO,  Function value: 47.9277,  Residual: 0.000141242 \n"
     ]
    },
    {
     "name": "stdout",
     "output_type": "stream",
     "text": [
      "176 TAO,  Function value: 47.9277,  Residual: 0.000168058 \n"
     ]
    },
    {
     "name": "stdout",
     "output_type": "stream",
     "text": [
      "177 TAO,  Function value: 47.9277,  Residual: 0.000171106 \n"
     ]
    },
    {
     "name": "stdout",
     "output_type": "stream",
     "text": [
      "178 TAO,  Function value: 47.9277,  Residual: 0.000134217 \n"
     ]
    },
    {
     "name": "stdout",
     "output_type": "stream",
     "text": [
      "179 TAO,  Function value: 47.9277,  Residual: 0.000138645 \n"
     ]
    },
    {
     "name": "stdout",
     "output_type": "stream",
     "text": [
      "180 TAO,  Function value: 47.9277,  Residual: 0.000153022 \n"
     ]
    },
    {
     "name": "stdout",
     "output_type": "stream",
     "text": [
      "181 TAO,  Function value: 47.9277,  Residual: 0.000107386 \n"
     ]
    },
    {
     "name": "stdout",
     "output_type": "stream",
     "text": [
      "182 TAO,  Function value: 47.9277,  Residual: 0.000102133 \n"
     ]
    },
    {
     "name": "stdout",
     "output_type": "stream",
     "text": [
      "183 TAO,  Function value: 47.9277,  Residual: 8.35358e-05 \n"
     ]
    },
    {
     "name": "stdout",
     "output_type": "stream",
     "text": [
      "184 TAO,  Function value: 47.9277,  Residual: 8.80215e-05 \n"
     ]
    },
    {
     "name": "stdout",
     "output_type": "stream",
     "text": [
      "185 TAO,  Function value: 47.9277,  Residual: 0.000106023 \n"
     ]
    },
    {
     "name": "stdout",
     "output_type": "stream",
     "text": [
      "186 TAO,  Function value: 47.9277,  Residual: 7.38508e-05 \n"
     ]
    },
    {
     "name": "stdout",
     "output_type": "stream",
     "text": [
      "187 TAO,  Function value: 47.9277,  Residual: 6.72666e-05 \n"
     ]
    },
    {
     "name": "stdout",
     "output_type": "stream",
     "text": [
      "188 TAO,  Function value: 47.9277,  Residual: 5.57236e-05 \n"
     ]
    },
    {
     "name": "stdout",
     "output_type": "stream",
     "text": [
      "189 TAO,  Function value: 47.9277,  Residual: 6.79148e-05 \n"
     ]
    },
    {
     "name": "stdout",
     "output_type": "stream",
     "text": [
      "190 TAO,  Function value: 47.9277,  Residual: 5.54815e-05 \n"
     ]
    },
    {
     "name": "stdout",
     "output_type": "stream",
     "text": [
      "191 TAO,  Function value: 47.9277,  Residual: 4.55044e-05 \n"
     ]
    },
    {
     "name": "stdout",
     "output_type": "stream",
     "text": [
      "192 TAO,  Function value: 47.9277,  Residual: 5.13068e-05 \n"
     ]
    },
    {
     "name": "stdout",
     "output_type": "stream",
     "text": [
      "193 TAO,  Function value: 47.9277,  Residual: 4.66711e-05 \n"
     ]
    },
    {
     "name": "stdout",
     "output_type": "stream",
     "text": [
      "194 TAO,  Function value: 47.9277,  Residual: 4.95998e-05 \n"
     ]
    },
    {
     "name": "stdout",
     "output_type": "stream",
     "text": [
      "195 TAO,  Function value: 47.9277,  Residual: 3.7866e-05 \n"
     ]
    },
    {
     "name": "stdout",
     "output_type": "stream",
     "text": [
      "196 TAO,  Function value: 47.9277,  Residual: 3.65109e-05 \n"
     ]
    },
    {
     "name": "stdout",
     "output_type": "stream",
     "text": [
      "197 TAO,  Function value: 47.9277,  Residual: 3.82517e-05 \n"
     ]
    },
    {
     "name": "stdout",
     "output_type": "stream",
     "text": [
      "198 TAO,  Function value: 47.9277,  Residual: 3.5131e-05 \n"
     ]
    },
    {
     "name": "stdout",
     "output_type": "stream",
     "text": [
      "199 TAO,  Function value: 47.9277,  Residual: 3.20019e-05 \n"
     ]
    },
    {
     "name": "stdout",
     "output_type": "stream",
     "text": [
      "200 TAO,  Function value: 47.9277,  Residual: 3.44756e-05 \n"
     ]
    },
    {
     "name": "stdout",
     "output_type": "stream",
     "text": [
      "201 TAO,  Function value: 47.9277,  Residual: 2.70557e-05 \n"
     ]
    },
    {
     "name": "stdout",
     "output_type": "stream",
     "text": [
      "202 TAO,  Function value: 47.9277,  Residual: 3.03911e-05 \n"
     ]
    },
    {
     "name": "stdout",
     "output_type": "stream",
     "text": [
      "203 TAO,  Function value: 47.9277,  Residual: 2.71093e-05 \n"
     ]
    },
    {
     "name": "stdout",
     "output_type": "stream",
     "text": [
      "204 TAO,  Function value: 47.9277,  Residual: 2.05683e-05 \n"
     ]
    },
    {
     "name": "stdout",
     "output_type": "stream",
     "text": [
      "205 TAO,  Function value: 47.9277,  Residual: 1.97085e-05 \n"
     ]
    },
    {
     "name": "stdout",
     "output_type": "stream",
     "text": [
      "206 TAO,  Function value: 47.9277,  Residual: 1.99219e-05 \n"
     ]
    },
    {
     "name": "stdout",
     "output_type": "stream",
     "text": [
      "207 TAO,  Function value: 47.9277,  Residual: 1.8137e-05 \n"
     ]
    },
    {
     "name": "stdout",
     "output_type": "stream",
     "text": [
      "208 TAO,  Function value: 47.9277,  Residual: 1.77297e-05 \n"
     ]
    },
    {
     "name": "stdout",
     "output_type": "stream",
     "text": [
      "209 TAO,  Function value: 47.9277,  Residual: 1.48771e-05 \n"
     ]
    },
    {
     "name": "stdout",
     "output_type": "stream",
     "text": [
      "210 TAO,  Function value: 47.9277,  Residual: 1.77043e-05 \n"
     ]
    },
    {
     "name": "stdout",
     "output_type": "stream",
     "text": [
      "211 TAO,  Function value: 47.9277,  Residual: 1.34647e-05 \n"
     ]
    },
    {
     "name": "stdout",
     "output_type": "stream",
     "text": [
      "212 TAO,  Function value: 47.9277,  Residual: 1.41654e-05 \n"
     ]
    },
    {
     "name": "stdout",
     "output_type": "stream",
     "text": [
      "213 TAO,  Function value: 47.9277,  Residual: 9.37271e-06 \n"
     ]
    },
    {
     "data": {
      "text/plain": [
       "(True, True)"
      ]
     },
     "execution_count": 4,
     "metadata": {},
     "output_type": "execute_result"
    }
   ],
   "source": [
    "optimizer = TAOSolver(lambda m: forward(m)[2], space, H_0_action=B_action,\n",
    "                      solver_parameters={\"tao_type\": \"lmvm\",\n",
    "                                         \"tao_gatol\": 1.0e-5,\n",
    "                                         \"tao_grtol\": 0.0,\n",
    "                                         \"tao_gttol\": 0.0,\n",
    "                                         \"tao_monitor\": None})\n",
    "\n",
    "m_map = Function(space, name=\"m_map\").assign(m_0)\n",
    "optimizer.solve(m_map)\n",
    "\n",
    "reset_manager()\n",
    "start_manager()\n",
    "J_mismatch, _, J, u_map = forward(m_map)\n",
    "stop_manager()"
   ]
  },
  {
   "cell_type": "markdown",
   "id": "572fdb0b-61a7-4bd9-8224-a61de3befdef",
   "metadata": {},
   "source": [
    "Let's plot the result."
   ]
  },
  {
   "cell_type": "code",
   "execution_count": 5,
   "id": "882960ad-2584-41d8-afa5-b20f30c5a7bb",
   "metadata": {
    "execution": {
     "iopub.execute_input": "2025-02-11T18:17:20.350348Z",
     "iopub.status.busy": "2025-02-11T18:17:20.350128Z",
     "iopub.status.idle": "2025-02-11T18:17:21.551595Z",
     "shell.execute_reply": "2025-02-11T18:17:21.550946Z"
    }
   },
   "outputs": [
    {
     "data": {
      "image/png": "[encoded data removed]",
      "text/plain": [
       "<Figure size 640x480 with 2 Axes>"
      ]
     },
     "metadata": {},
     "output_type": "display_data"
    },
    {
     "data": {
      "image/png": "[encoded data removed]",
      "text/plain": [
       "<Figure size 640x480 with 2 Axes>"
      ]
     },
     "metadata": {},
     "output_type": "display_data"
    }
   ],
   "source": [
    "reset_manager()\n",
    "start_manager()\n",
    "J_mismatch, _, J, u_map = forward(m_map)\n",
    "stop_manager()\n",
    "\n",
    "plot_output(m_map, r\"$m_{map}$\")\n",
    "plot_output(u_map, r\"$\\hat{u} ( m_{map} )$\")"
   ]
  },
  {
   "cell_type": "markdown",
   "id": "bad61e68-e156-49f7-975d-40362fec59fd",
   "metadata": {},
   "source": [
    "## Computing uncertainty estimates: Low rank update approximation\n",
    "\n",
    "We next seek to use Hessian information to quantify the uncertainty in the result of the inference. We use a low-rank update approximation using the methodology of Isaac et al 2015, doi: 10.1016/j.jcp.2015.04.047.\n",
    "\n",
    "In this approach we consider the mismatch Hessian, $H_{mismatch}$, obtained by differentiating\n",
    "\n",
    "$$J_{mismatch} = \\frac{1}{2} R_{obs}^{-1} ( u_{obs} - \\hat{u}_N ( m ), u_{obs} - \\hat{u}_N ( m ) ),$$\n",
    "\n",
    "twice with respect to the control $m$. i.e.\n",
    "\n",
    "$$H_{mismatch} = H - B^{-1}.$$\n",
    "\n",
    "We seek eigenpairs $\\lambda_k \\in \\mathbb{R}$, $v_k \\in V$ such that\n",
    "\n",
    "$$H_{mismatch} \\left( v_k, \\cdot \\right) = \\lambda_k B^{-1} \\left( v_k, \\cdot \\right),$$\n",
    "\n",
    "where the eigenvectors are $B^{-1}$-orthonormal\n",
    "\n",
    "$$B^{-1} ( v_k, v_l ) = \\delta_{k,l}.$$\n",
    "\n",
    "This leads directly to an expression for a low-rank update approximation for the Hessian inverse, expressed as a low rank update to the prior covariance (equation (20) of Isaac et al 2015, doi: 10.1016/j.jcp.2015.04.047),\n",
    "\n",
    "$$H^{-1} ( q_i, q_j ) \\approx B ( q_i, q_j ) - \\sum_k \\frac{\\lambda_k}{1 + \\lambda_k} q_i ( v_k ) q_j ( v_k ),$$\n",
    "\n",
    "which we use to approximate the posterior covariance.\n",
    "\n",
    "We first perform a higher order Taylor verification using the mismatch Hessian."
   ]
  },
  {
   "cell_type": "code",
   "execution_count": 6,
   "id": "b1df5fc5-8598-4231-b9f9-d5ca457c560a",
   "metadata": {
    "execution": {
     "iopub.execute_input": "2025-02-11T18:17:21.553254Z",
     "iopub.status.busy": "2025-02-11T18:17:21.553064Z",
     "iopub.status.idle": "2025-02-11T18:17:27.638242Z",
     "shell.execute_reply": "2025-02-11T18:17:27.637646Z"
    }
   },
   "outputs": [
    {
     "name": "stdout",
     "output_type": "stream",
     "text": [
      "Error norms, no adjoint   = [0.00379075 0.00214381 0.00113403 0.00058255 0.00029516]\n"
     ]
    },
    {
     "name": "stdout",
     "output_type": "stream",
     "text": [
      "Orders,      no adjoint   = [0.82230944 0.91871228 0.96100471 0.98088892]\n"
     ]
    },
    {
     "name": "stdout",
     "output_type": "stream",
     "text": [
      "Error norms, with adjoint = [4.71842950e-07 5.92286109e-08 7.41905819e-09 9.28147120e-10\n",
      " 1.15956090e-10]\n"
     ]
    },
    {
     "name": "stdout",
     "output_type": "stream",
     "text": [
      "Orders,      with adjoint = [2.99394059 2.99698629 2.99881065 3.00077491]\n"
     ]
    }
   ],
   "source": [
    "H_mismatch = CachedHessian(J_mismatch)\n",
    "\n",
    "dm = Function(space, name=\"dm\").interpolate(\n",
    "    exp(-((X[0] - 0.3) ** 2 + (X[1] - 0.3) ** 2) / (2 * 0.08 * 0.08)))\n",
    "min_order = taylor_test(lambda m: forward(m)[0], m_map, J_val=J_mismatch.value, ddJ=H_mismatch, dM=dm, seed=1.0e-4)\n",
    "assert min_order > 2.99"
   ]
  },
  {
   "cell_type": "markdown",
   "id": "64e7d158-9772-4ab1-9ca3-d4442a932cb6",
   "metadata": {},
   "source": [
    "We now use SLEPc, seeking the 20 eigenpairs whose eigenvalues have largest magnitude.\n",
    "\n",
    "Note: There is a notational clash here! Conventially the prior inverse covariance is denoted $B^{-1}$, but here we use this on the right-hand-side of a generalized eigenproblem, where the associated matrix is *also* conventially notated $B$. Here the `B_action` argument to the `HessianEigensolver` constructor is set equal to `B_inv_action` in the call, and the `B_inv_action` argument is set equal to `B_action`!"
   ]
  },
  {
   "cell_type": "code",
   "execution_count": 7,
   "id": "1896bfac-83e4-48eb-a8c0-6163e7a36531",
   "metadata": {
    "execution": {
     "iopub.execute_input": "2025-02-11T18:17:27.639995Z",
     "iopub.status.busy": "2025-02-11T18:17:27.639816Z",
     "iopub.status.idle": "2025-02-11T18:18:52.257205Z",
     "shell.execute_reply": "2025-02-11T18:18:52.256653Z"
    }
   },
   "outputs": [
    {
     "name": "stdout",
     "output_type": "stream",
     "text": [
      "  Eigenvalue approximations and residual norms for _tlm_adjoint__EPS_0xc4000007_0_ solve.\n",
      "  1 EPS nconv=10 first unconverged value (error) 208.222 (1.53942626e-13)\n"
     ]
    },
    {
     "name": "stdout",
     "output_type": "stream",
     "text": [
      "  2 EPS nconv=16 first unconverged value (error) 118.459 (3.82528711e-14)\n"
     ]
    },
    {
     "name": "stdout",
     "output_type": "stream",
     "text": [
      "  3 EPS nconv=20 first unconverged value (error) 87.915 (2.00950343e-14)\n"
     ]
    }
   ],
   "source": [
    "esolver = HessianEigensolver(\n",
    "    H_mismatch, m_map, B_action=B_inv_action, B_inv_action=B_action,\n",
    "    solver_parameters={\"eps_type\": \"krylovschur\",\n",
    "                       \"eps_gen_hermitian\": None,\n",
    "                       \"eps_largest_magnitude\": None,\n",
    "                       \"eps_nev\": 20,\n",
    "                       \"eps_conv_rel\": None,\n",
    "                       \"eps_tol\": 1.0e-14,\n",
    "                       \"eps_purify\": False,\n",
    "                       \"eps_monitor\": None})\n",
    "esolver.solve()"
   ]
  },
  {
   "cell_type": "markdown",
   "id": "a71568e9-6a12-4b34-9266-76ed64c48975",
   "metadata": {},
   "source": [
    "Let's plot the eigenvalues."
   ]
  },
  {
   "cell_type": "code",
   "execution_count": 8,
   "id": "12f9bd12-40e1-425b-8f61-efb2de94e000",
   "metadata": {
    "execution": {
     "iopub.execute_input": "2025-02-11T18:18:52.259003Z",
     "iopub.status.busy": "2025-02-11T18:18:52.258827Z",
     "iopub.status.idle": "2025-02-11T18:18:52.476434Z",
     "shell.execute_reply": "2025-02-11T18:18:52.475795Z"
    }
   },
   "outputs": [
    {
     "data": {
      "text/plain": [
       "Text(0, 0.5, 'Eigenvalue')"
      ]
     },
     "execution_count": 8,
     "metadata": {},
     "output_type": "execute_result"
    },
    {
     "data": {
      "image/png": "[encoded data removed]",
      "text/plain": [
       "<Figure size 640x480 with 1 Axes>"
      ]
     },
     "metadata": {},
     "output_type": "display_data"
    }
   ],
   "source": [
    "lam = esolver.eigenvalues()\n",
    "assert (lam > 0.0).all()\n",
    "plt.semilogy(range(1, len(esolver) + 1), lam, \"k-\")\n",
    "plt.xlim(0, len(esolver))\n",
    "plt.xlabel(\"Eigenvalue index\")\n",
    "plt.ylabel(\"Eigenvalue\")"
   ]
  },
  {
   "cell_type": "markdown",
   "id": "5d352f10-3ec8-41de-af3c-4d1f2164cbc6",
   "metadata": {},
   "source": [
    "Each eigenvalue indicates some information, added by the observation, over the prior. Specifically each eigenvector $v_k \\in V$ has an associated dual space element defined by the prior inverse covariance, $q_{v_k} = B^{-1} ( v_k, \\cdot ) \\in V^*$. If we have an observation for a quantitity of interest defined by a linear functional equal to a (non-zero) multiple of this associated dual space element, and if the posterior were Gaussian, then the associated variance decreases by a factor of one plus the eigenvalue when we add the observation. That is, under the Gaussian approximation, we have\n",
    "\n",
    "$$\\frac{\\sigma^2_{q_{v_k},posterior}}{\\sigma^2_{q_{v_k},prior}} = \\frac{1}{1 + \\lambda_k},$$\n",
    "\n",
    "where $\\sigma^2_{q_{v_k},posterior}$ and $\\sigma^2_{q_{v_k},prior}$ are respectively the posterior and prior variance associated with $q_{v_k}$, and where $\\lambda_k$ is the associated eigenvalue.\n",
    "\n",
    "Having retained only $20$ eigenpairs, the smallest eigenvalue obtained is quite a bit bigger than one. This means we might expect to be missing quite a bit of information available in the Hessian if we use a low rank update approximation using only these $20$ eigenpairs. We'll return to this issue later.\n",
    "\n",
    "The linear functional associated with computing the average $x$-component of the velocity for $0.4 < y < 0.6$, $q_u \\in V^*$, satisfies\n",
    "\n",
    "$$q_u ( \\zeta ) = -\\frac{1}{\\int_\\Omega \\mathcal{I}} \\int_\\Omega \\mathcal{I} \\partial_y \\zeta,$$\n",
    "\n",
    "where $\\mathcal{I}$ is one where $0.4 < y < 0.6$ and zero elsewhere. We can use this to evaluate an estimate for the posterior mean of this quantity,\n",
    "\n",
    "$$\\mu_{q_u,posterior} \\approx q_u ( m_{map} ).$$"
   ]
  },
  {
   "cell_type": "code",
   "execution_count": 9,
   "id": "0b19afce-4d8a-4fbf-8f2f-c912d70ee78a",
   "metadata": {
    "execution": {
     "iopub.execute_input": "2025-02-11T18:18:52.478315Z",
     "iopub.status.busy": "2025-02-11T18:18:52.478106Z",
     "iopub.status.idle": "2025-02-11T18:18:53.697955Z",
     "shell.execute_reply": "2025-02-11T18:18:53.697345Z"
    }
   },
   "outputs": [
    {
     "name": "stdout",
     "output_type": "stream",
     "text": [
      "assemble(q_u(m_map))=0.26603362165200495\n"
     ]
    }
   ],
   "source": [
    "I = Function(FunctionSpace(mesh, \"Discontinuous Lagrange\", 0)).interpolate(\n",
    "    conditional(X[1] > 0.4, 1.0, 0.0) * conditional(X[1] < 0.6, 1.0, 0.0))\n",
    "q_u = assemble(-(1 / Constant(assemble(I * dx))) * I * test.dx(1) * dx)\n",
    "print(f\"{assemble(q_u(m_map))=}\")"
   ]
  },
  {
   "cell_type": "markdown",
   "id": "6b378509-e7aa-4d07-bed9-8fb12005b40d",
   "metadata": {},
   "source": [
    "The associated posterior uncertainty estimate is then\n",
    "\n",
    "$$\\sigma_{q_u,posterior} \\approx \\sqrt{H_{approx}^{-1} ( q_u, q_u )}.$$"
   ]
  },
  {
   "cell_type": "code",
   "execution_count": 10,
   "id": "f07ac9a2-34e4-4513-b59e-b93f3b347ded",
   "metadata": {
    "execution": {
     "iopub.execute_input": "2025-02-11T18:18:53.699648Z",
     "iopub.status.busy": "2025-02-11T18:18:53.699467Z",
     "iopub.status.idle": "2025-02-11T18:18:53.776267Z",
     "shell.execute_reply": "2025-02-11T18:18:53.775697Z"
    }
   },
   "outputs": [
    {
     "name": "stdout",
     "output_type": "stream",
     "text": [
      "sigma_u=0.049826943093325984\n"
     ]
    }
   ],
   "source": [
    "sigma_u = sqrt(assemble(q_u(esolver.spectral_approximation_solve(q_u))))\n",
    "print(f\"{sigma_u=}\")"
   ]
  },
  {
   "cell_type": "markdown",
   "id": "e43b225b-a0d1-4872-8ad2-31783ce2c710",
   "metadata": {},
   "source": [
    "We can compare this with the prior uncertainty,\n",
    "\n",
    "$$\\sigma_{q_u,prior} = \\sqrt{ B ( q_u, q_u ) }.$$"
   ]
  },
  {
   "cell_type": "code",
   "execution_count": 11,
   "id": "3f0f132c-f396-49d3-9fe0-728cfa34912f",
   "metadata": {
    "execution": {
     "iopub.execute_input": "2025-02-11T18:18:53.778110Z",
     "iopub.status.busy": "2025-02-11T18:18:53.777928Z",
     "iopub.status.idle": "2025-02-11T18:18:53.839060Z",
     "shell.execute_reply": "2025-02-11T18:18:53.838462Z"
    }
   },
   "outputs": [
    {
     "name": "stdout",
     "output_type": "stream",
     "text": [
      "sigma_prior_q_u=0.06809389996419146\n"
     ]
    }
   ],
   "source": [
    "sigma_prior_q_u = sqrt(assemble(q_u(B_action(q_u))))\n",
    "print(f\"{sigma_prior_q_u=}\")"
   ]
  },
  {
   "cell_type": "markdown",
   "id": "bfc702c5-b84f-46db-9e7a-3a23856c0e47",
   "metadata": {},
   "source": [
    "i.e. we estimate that the observation has reduced the uncertainty in our estimate for $q_u( m )$ by about 25%.\n",
    "\n",
    "## Computing uncertainty estimates: Full Hessian inverse\n",
    "\n",
    "We have made a number of assumptions in order to define the inference problem, but given the problem we have used only two approximations in the uncertainty estimate itself: the local Gaussian assumption (making use of the Hessian), and the low rank update approximation for the Hessian inverse. We now remove the second of these approximations using a Krylov solver, using PETSc. Since we already have an *approximation* for the Hessian inverse, we can use this to construct a preconditioner in the calculation of a Hessian inverse action."
   ]
  },
  {
   "cell_type": "code",
   "execution_count": 12,
   "id": "26a67bd8-320b-4173-8bb0-a3805fffedba",
   "metadata": {
    "execution": {
     "iopub.execute_input": "2025-02-11T18:18:53.840774Z",
     "iopub.status.busy": "2025-02-11T18:18:53.840538Z",
     "iopub.status.idle": "2025-02-11T18:20:15.188083Z",
     "shell.execute_reply": "2025-02-11T18:20:15.187503Z"
    }
   },
   "outputs": [
    {
     "name": "stdout",
     "output_type": "stream",
     "text": [
      "  Residual norms for _tlm_adjoint__KSP_0xc4000009_0_ solve.\n",
      "  0 KSP Residual norm 9.901063940612e-03\n"
     ]
    },
    {
     "name": "stdout",
     "output_type": "stream",
     "text": [
      "  1 KSP Residual norm 3.846887396923e-03\n"
     ]
    },
    {
     "name": "stdout",
     "output_type": "stream",
     "text": [
      "  2 KSP Residual norm 2.959402172924e-03\n"
     ]
    },
    {
     "name": "stdout",
     "output_type": "stream",
     "text": [
      "  3 KSP Residual norm 1.718696050315e-03\n"
     ]
    },
    {
     "name": "stdout",
     "output_type": "stream",
     "text": [
      "  4 KSP Residual norm 1.325055699763e-03\n"
     ]
    },
    {
     "name": "stdout",
     "output_type": "stream",
     "text": [
      "  5 KSP Residual norm 1.122277413445e-03\n"
     ]
    },
    {
     "name": "stdout",
     "output_type": "stream",
     "text": [
      "  6 KSP Residual norm 9.690002941905e-04\n"
     ]
    },
    {
     "name": "stdout",
     "output_type": "stream",
     "text": [
      "  7 KSP Residual norm 8.439140190241e-04\n"
     ]
    },
    {
     "name": "stdout",
     "output_type": "stream",
     "text": [
      "  8 KSP Residual norm 3.525862866587e-04\n"
     ]
    },
    {
     "name": "stdout",
     "output_type": "stream",
     "text": [
      "  9 KSP Residual norm 5.477244753569e-04\n"
     ]
    },
    {
     "name": "stdout",
     "output_type": "stream",
     "text": [
      " 10 KSP Residual norm 3.121835833383e-04\n"
     ]
    },
    {
     "name": "stdout",
     "output_type": "stream",
     "text": [
      " 11 KSP Residual norm 3.134450820882e-04\n"
     ]
    },
    {
     "name": "stdout",
     "output_type": "stream",
     "text": [
      " 12 KSP Residual norm 2.941740579930e-04\n"
     ]
    },
    {
     "name": "stdout",
     "output_type": "stream",
     "text": [
      " 13 KSP Residual norm 1.381997473824e-04\n"
     ]
    },
    {
     "name": "stdout",
     "output_type": "stream",
     "text": [
      " 14 KSP Residual norm 2.289384303399e-04\n"
     ]
    },
    {
     "name": "stdout",
     "output_type": "stream",
     "text": [
      " 15 KSP Residual norm 1.076096378952e-04\n"
     ]
    },
    {
     "name": "stdout",
     "output_type": "stream",
     "text": [
      " 16 KSP Residual norm 5.271734235858e-05\n"
     ]
    },
    {
     "name": "stdout",
     "output_type": "stream",
     "text": [
      " 17 KSP Residual norm 5.616047775553e-05\n"
     ]
    },
    {
     "name": "stdout",
     "output_type": "stream",
     "text": [
      " 18 KSP Residual norm 5.265159239080e-05\n"
     ]
    },
    {
     "name": "stdout",
     "output_type": "stream",
     "text": [
      " 19 KSP Residual norm 2.521783658860e-05\n"
     ]
    },
    {
     "name": "stdout",
     "output_type": "stream",
     "text": [
      " 20 KSP Residual norm 1.637758855716e-05\n"
     ]
    },
    {
     "name": "stdout",
     "output_type": "stream",
     "text": [
      " 21 KSP Residual norm 3.058528737786e-05\n"
     ]
    },
    {
     "name": "stdout",
     "output_type": "stream",
     "text": [
      " 22 KSP Residual norm 1.532049998254e-05\n"
     ]
    },
    {
     "name": "stdout",
     "output_type": "stream",
     "text": [
      " 23 KSP Residual norm 7.979585813705e-06\n"
     ]
    },
    {
     "name": "stdout",
     "output_type": "stream",
     "text": [
      " 24 KSP Residual norm 1.027004717719e-05\n"
     ]
    },
    {
     "name": "stdout",
     "output_type": "stream",
     "text": [
      " 25 KSP Residual norm 5.229044836309e-06\n"
     ]
    },
    {
     "name": "stdout",
     "output_type": "stream",
     "text": [
      " 26 KSP Residual norm 6.839842962128e-06\n"
     ]
    },
    {
     "name": "stdout",
     "output_type": "stream",
     "text": [
      " 27 KSP Residual norm 4.015886996091e-06\n"
     ]
    },
    {
     "name": "stdout",
     "output_type": "stream",
     "text": [
      " 28 KSP Residual norm 4.402673928099e-06\n"
     ]
    },
    {
     "name": "stdout",
     "output_type": "stream",
     "text": [
      " 29 KSP Residual norm 3.292276914745e-06\n"
     ]
    },
    {
     "name": "stdout",
     "output_type": "stream",
     "text": [
      " 30 KSP Residual norm 2.419410043024e-06\n"
     ]
    },
    {
     "name": "stdout",
     "output_type": "stream",
     "text": [
      " 31 KSP Residual norm 9.394867583164e-07\n"
     ]
    },
    {
     "name": "stdout",
     "output_type": "stream",
     "text": [
      " 32 KSP Residual norm 1.217609278977e-06\n"
     ]
    },
    {
     "name": "stdout",
     "output_type": "stream",
     "text": [
      " 33 KSP Residual norm 2.039049206921e-06\n"
     ]
    },
    {
     "name": "stdout",
     "output_type": "stream",
     "text": [
      " 34 KSP Residual norm 9.341725889835e-07\n"
     ]
    },
    {
     "name": "stdout",
     "output_type": "stream",
     "text": [
      " 35 KSP Residual norm 2.811449319662e-07\n"
     ]
    },
    {
     "name": "stdout",
     "output_type": "stream",
     "text": [
      " 36 KSP Residual norm 4.402614113737e-07\n"
     ]
    },
    {
     "name": "stdout",
     "output_type": "stream",
     "text": [
      " 37 KSP Residual norm 2.961624710683e-07\n"
     ]
    },
    {
     "name": "stdout",
     "output_type": "stream",
     "text": [
      " 38 KSP Residual norm 1.687143968444e-07\n"
     ]
    },
    {
     "name": "stdout",
     "output_type": "stream",
     "text": [
      " 39 KSP Residual norm 1.890661648698e-07\n"
     ]
    },
    {
     "name": "stdout",
     "output_type": "stream",
     "text": [
      " 40 KSP Residual norm 9.740610911599e-08\n"
     ]
    },
    {
     "name": "stdout",
     "output_type": "stream",
     "text": [
      " 41 KSP Residual norm 8.977497357935e-08\n"
     ]
    },
    {
     "name": "stdout",
     "output_type": "stream",
     "text": [
      " 42 KSP Residual norm 7.347374434350e-08\n"
     ]
    },
    {
     "name": "stdout",
     "output_type": "stream",
     "text": [
      " 43 KSP Residual norm 6.582416229412e-08\n"
     ]
    },
    {
     "name": "stdout",
     "output_type": "stream",
     "text": [
      " 44 KSP Residual norm 5.382757249658e-08\n"
     ]
    },
    {
     "name": "stdout",
     "output_type": "stream",
     "text": [
      " 45 KSP Residual norm 6.341360847130e-08\n"
     ]
    },
    {
     "name": "stdout",
     "output_type": "stream",
     "text": [
      " 46 KSP Residual norm 3.470665801808e-08\n"
     ]
    },
    {
     "name": "stdout",
     "output_type": "stream",
     "text": [
      " 47 KSP Residual norm 3.227599902138e-08\n"
     ]
    },
    {
     "name": "stdout",
     "output_type": "stream",
     "text": [
      " 48 KSP Residual norm 1.958410568715e-08\n"
     ]
    },
    {
     "name": "stdout",
     "output_type": "stream",
     "text": [
      " 49 KSP Residual norm 2.301198958079e-08\n"
     ]
    },
    {
     "name": "stdout",
     "output_type": "stream",
     "text": [
      " 50 KSP Residual norm 1.846709667676e-08\n"
     ]
    },
    {
     "name": "stdout",
     "output_type": "stream",
     "text": [
      " 51 KSP Residual norm 1.827263291620e-08\n"
     ]
    },
    {
     "name": "stdout",
     "output_type": "stream",
     "text": [
      " 52 KSP Residual norm 1.189008861456e-08\n"
     ]
    },
    {
     "name": "stdout",
     "output_type": "stream",
     "text": [
      " 53 KSP Residual norm 1.077867596364e-08\n"
     ]
    },
    {
     "name": "stdout",
     "output_type": "stream",
     "text": [
      " 54 KSP Residual norm 7.471548333104e-09\n"
     ]
    },
    {
     "name": "stdout",
     "output_type": "stream",
     "text": [
      " 55 KSP Residual norm 7.808925136195e-09\n"
     ]
    },
    {
     "name": "stdout",
     "output_type": "stream",
     "text": [
      " 56 KSP Residual norm 7.444404082607e-09\n"
     ]
    },
    {
     "name": "stdout",
     "output_type": "stream",
     "text": [
      " 57 KSP Residual norm 4.851473640139e-09\n"
     ]
    },
    {
     "name": "stdout",
     "output_type": "stream",
     "text": [
      " 58 KSP Residual norm 3.990201734499e-09\n"
     ]
    },
    {
     "name": "stdout",
     "output_type": "stream",
     "text": [
      " 59 KSP Residual norm 3.497153443461e-09\n"
     ]
    },
    {
     "name": "stdout",
     "output_type": "stream",
     "text": [
      " 60 KSP Residual norm 3.159027163400e-09\n"
     ]
    },
    {
     "name": "stdout",
     "output_type": "stream",
     "text": [
      " 61 KSP Residual norm 2.518510686472e-09\n"
     ]
    },
    {
     "name": "stdout",
     "output_type": "stream",
     "text": [
      " 62 KSP Residual norm 1.782610592870e-09\n"
     ]
    },
    {
     "name": "stdout",
     "output_type": "stream",
     "text": [
      " 63 KSP Residual norm 1.313695279622e-09\n"
     ]
    },
    {
     "name": "stdout",
     "output_type": "stream",
     "text": [
      " 64 KSP Residual norm 1.090144383730e-09\n"
     ]
    },
    {
     "name": "stdout",
     "output_type": "stream",
     "text": [
      " 65 KSP Residual norm 6.928084128271e-10\n"
     ]
    }
   ],
   "source": [
    "H = CachedHessian(J)\n",
    "\n",
    "ksp = HessianLinearSolver(H, m_map, solver_parameters={\"ksp_type\": \"cg\",\n",
    "                                                       \"ksp_atol\": 0.0,\n",
    "                                                       \"ksp_rtol\": 1.0e-7,\n",
    "                                                       \"ksp_monitor\": None},\n",
    "                          pc_fn=esolver.spectral_pc_fn())\n",
    "H_inv_q_u = Function(space, name=\"H_inv_q_u\")\n",
    "ksp.solve(H_inv_q_u, q_u)"
   ]
  },
  {
   "cell_type": "markdown",
   "id": "752cd2ee-c3bf-4d98-9570-a1c497c86aa5",
   "metadata": {},
   "source": [
    "Let's double check that we solved the linear system."
   ]
  },
  {
   "cell_type": "code",
   "execution_count": 13,
   "id": "7e383e6d-be39-45e7-a41e-9b708842fbc4",
   "metadata": {
    "execution": {
     "iopub.execute_input": "2025-02-11T18:20:15.189787Z",
     "iopub.status.busy": "2025-02-11T18:20:15.189612Z",
     "iopub.status.idle": "2025-02-11T18:20:16.265395Z",
     "shell.execute_reply": "2025-02-11T18:20:16.264818Z"
    }
   },
   "outputs": [
    {
     "name": "stdout",
     "output_type": "stream",
     "text": [
      "residual_norm / q_u_norm=np.float64(1.608633886866077e-05)\n"
     ]
    }
   ],
   "source": [
    "residual = Cofunction(space.dual()).assign(\n",
    "    H.action(m_map, H_inv_q_u)[2] - q_u)\n",
    "q_u_norm = abs(q_u.dat.data_ro).max()\n",
    "residual_norm = abs(residual.dat.data_ro).max()\n",
    "print(f\"{residual_norm / q_u_norm=}\")\n",
    "assert residual_norm / q_u_norm < 1.0e-4"
   ]
  },
  {
   "cell_type": "markdown",
   "id": "5cef87b1-eb9c-4558-973a-68fab5b1163c",
   "metadata": {},
   "source": [
    "Our new uncertainty estimate, using the full Hessian, is"
   ]
  },
  {
   "cell_type": "code",
   "execution_count": 14,
   "id": "8b527bf4-099a-4230-9617-9b2c24f1311b",
   "metadata": {
    "execution": {
     "iopub.execute_input": "2025-02-11T18:20:16.267117Z",
     "iopub.status.busy": "2025-02-11T18:20:16.266945Z",
     "iopub.status.idle": "2025-02-11T18:20:16.271167Z",
     "shell.execute_reply": "2025-02-11T18:20:16.270765Z"
    }
   },
   "outputs": [
    {
     "name": "stdout",
     "output_type": "stream",
     "text": [
      "sigma_u=0.031200525962623942\n"
     ]
    }
   ],
   "source": [
    "sigma_u = sqrt(assemble(q_u(H_inv_q_u)))\n",
    "print(f\"{sigma_u=}\")"
   ]
  },
  {
   "cell_type": "markdown",
   "id": "e4c380ad-9d21-4f84-8dd1-04d33573773f",
   "metadata": {},
   "source": [
    "This reveals that our partial eigenspectrum estimate did indeed miss quite a bit of relevant information available in the Hessian. In fact with the full Hessian we estimate a reduction in uncertainty of about 55%."
   ]
  }
 ],
 "metadata": {
  "kernelspec": {
   "display_name": "Python 3 (ipykernel)",
   "language": "python",
   "name": "python3"
  },
  "language_info": {
   "codemirror_mode": {
    "name": "ipython",
    "version": 3
   },
   "file_extension": ".py",
   "mimetype": "text/x-python",
   "name": "python",
   "nbconvert_exporter": "python",
   "pygments_lexer": "ipython3",
   "version": "3.12.3"
  }
 },
 "nbformat": 4,
 "nbformat_minor": 5
}
